{
 "cells": [
  {
   "cell_type": "code",
   "execution_count": 1,
   "id": "781bcb80",
   "metadata": {},
   "outputs": [],
   "source": [
    "import numpy as np\n",
    "import pandas as pd\n",
    "import seaborn as sns\n",
    "import matplotlib.pyplot as plt"
   ]
  },
  {
   "cell_type": "code",
   "execution_count": 2,
   "id": "fc2d9478",
   "metadata": {},
   "outputs": [],
   "source": [
    "df = pd.read_csv('C:/Users/jshaik2452/Downloads/Cleaned Datasets/Cleaned Datasets/Affordable cities and their details.csv')"
   ]
  },
  {
   "cell_type": "code",
   "execution_count": 3,
   "id": "3c1872e0",
   "metadata": {},
   "outputs": [
    {
     "data": {
      "text/html": [
       "<div>\n",
       "<style scoped>\n",
       "    .dataframe tbody tr th:only-of-type {\n",
       "        vertical-align: middle;\n",
       "    }\n",
       "\n",
       "    .dataframe tbody tr th {\n",
       "        vertical-align: top;\n",
       "    }\n",
       "\n",
       "    .dataframe thead th {\n",
       "        text-align: right;\n",
       "    }\n",
       "</style>\n",
       "<table border=\"1\" class=\"dataframe\">\n",
       "  <thead>\n",
       "    <tr style=\"text-align: right;\">\n",
       "      <th></th>\n",
       "      <th>X.1</th>\n",
       "      <th>X.2</th>\n",
       "      <th>City</th>\n",
       "      <th>State</th>\n",
       "      <th>Avg. Summer Temp</th>\n",
       "      <th>Flights</th>\n",
       "      <th>Hotels</th>\n",
       "      <th>Car</th>\n",
       "      <th>Meals</th>\n",
       "      <th>Total Cost</th>\n",
       "      <th>Rank</th>\n",
       "    </tr>\n",
       "  </thead>\n",
       "  <tbody>\n",
       "    <tr>\n",
       "      <th>0</th>\n",
       "      <td>41.652914</td>\n",
       "      <td>-83.537817</td>\n",
       "      <td>Toledo</td>\n",
       "      <td>OH</td>\n",
       "      <td>87</td>\n",
       "      <td>$736.92</td>\n",
       "      <td>$723.96</td>\n",
       "      <td>$135.72</td>\n",
       "      <td>$1,134.00</td>\n",
       "      <td>$2,730.60</td>\n",
       "      <td>1</td>\n",
       "    </tr>\n",
       "    <tr>\n",
       "      <th>1</th>\n",
       "      <td>35.472989</td>\n",
       "      <td>-97.517054</td>\n",
       "      <td>Oklahoma City</td>\n",
       "      <td>OK</td>\n",
       "      <td>82</td>\n",
       "      <td>$1,181.28</td>\n",
       "      <td>$764.40</td>\n",
       "      <td>$154.83</td>\n",
       "      <td>$1,171.08</td>\n",
       "      <td>$3,271.59</td>\n",
       "      <td>2</td>\n",
       "    </tr>\n",
       "    <tr>\n",
       "      <th>2</th>\n",
       "      <td>28.542111</td>\n",
       "      <td>-81.379030</td>\n",
       "      <td>Orlando</td>\n",
       "      <td>FL</td>\n",
       "      <td>79</td>\n",
       "      <td>$1,089.56</td>\n",
       "      <td>$1,168.32</td>\n",
       "      <td>$126.12</td>\n",
       "      <td>$1,250.16</td>\n",
       "      <td>$3,634.16</td>\n",
       "      <td>3</td>\n",
       "    </tr>\n",
       "    <tr>\n",
       "      <th>3</th>\n",
       "      <td>42.886717</td>\n",
       "      <td>-78.878392</td>\n",
       "      <td>Buffalo</td>\n",
       "      <td>NY</td>\n",
       "      <td>75</td>\n",
       "      <td>$1,352.12</td>\n",
       "      <td>$966.78</td>\n",
       "      <td>$148.17</td>\n",
       "      <td>$1,202.16</td>\n",
       "      <td>$3,669.23</td>\n",
       "      <td>4</td>\n",
       "    </tr>\n",
       "    <tr>\n",
       "      <th>4</th>\n",
       "      <td>37.692236</td>\n",
       "      <td>-97.337545</td>\n",
       "      <td>Wichita</td>\n",
       "      <td>KS</td>\n",
       "      <td>74</td>\n",
       "      <td>$1,764.64</td>\n",
       "      <td>$619.56</td>\n",
       "      <td>$125.61</td>\n",
       "      <td>$1,162.92</td>\n",
       "      <td>$3,672.73</td>\n",
       "      <td>5</td>\n",
       "    </tr>\n",
       "  </tbody>\n",
       "</table>\n",
       "</div>"
      ],
      "text/plain": [
       "         X.1        X.2           City State  Avg. Summer Temp     Flights  \\\n",
       "0  41.652914 -83.537817         Toledo    OH                87    $736.92    \n",
       "1  35.472989 -97.517054  Oklahoma City    OK                82  $1,181.28    \n",
       "2  28.542111 -81.379030        Orlando    FL                79  $1,089.56    \n",
       "3  42.886717 -78.878392        Buffalo    NY                75  $1,352.12    \n",
       "4  37.692236 -97.337545        Wichita    KS                74  $1,764.64    \n",
       "\n",
       "       Hotels       Car       Meals  Total Cost  Rank  \n",
       "0    $723.96   $135.72   $1,134.00   $2,730.60      1  \n",
       "1    $764.40   $154.83   $1,171.08   $3,271.59      2  \n",
       "2  $1,168.32   $126.12   $1,250.16   $3,634.16      3  \n",
       "3    $966.78   $148.17   $1,202.16   $3,669.23      4  \n",
       "4    $619.56   $125.61   $1,162.92   $3,672.73      5  "
      ]
     },
     "execution_count": 3,
     "metadata": {},
     "output_type": "execute_result"
    }
   ],
   "source": [
    "df.head()"
   ]
  },
  {
   "cell_type": "code",
   "execution_count": 4,
   "id": "eaa901d9",
   "metadata": {},
   "outputs": [
    {
     "data": {
      "text/plain": [
       "(25, 11)"
      ]
     },
     "execution_count": 4,
     "metadata": {},
     "output_type": "execute_result"
    }
   ],
   "source": [
    "df.shape"
   ]
  },
  {
   "cell_type": "code",
   "execution_count": 5,
   "id": "769f52ba",
   "metadata": {},
   "outputs": [
    {
     "data": {
      "text/plain": [
       "Index(['X.1', 'X.2', 'City', 'State', 'Avg. Summer Temp', 'Flights', 'Hotels',\n",
       "       'Car', 'Meals', 'Total Cost', 'Rank'],\n",
       "      dtype='object')"
      ]
     },
     "execution_count": 5,
     "metadata": {},
     "output_type": "execute_result"
    }
   ],
   "source": [
    "df.columns"
   ]
  },
  {
   "cell_type": "code",
   "execution_count": 6,
   "id": "b987621d",
   "metadata": {},
   "outputs": [
    {
     "name": "stdout",
     "output_type": "stream",
     "text": [
      "<class 'pandas.core.frame.DataFrame'>\n",
      "RangeIndex: 25 entries, 0 to 24\n",
      "Data columns (total 11 columns):\n",
      " #   Column            Non-Null Count  Dtype  \n",
      "---  ------            --------------  -----  \n",
      " 0   X.1               25 non-null     float64\n",
      " 1   X.2               25 non-null     float64\n",
      " 2   City              25 non-null     object \n",
      " 3   State             25 non-null     object \n",
      " 4   Avg. Summer Temp  25 non-null     int64  \n",
      " 5   Flights           25 non-null     object \n",
      " 6   Hotels            25 non-null     object \n",
      " 7   Car               25 non-null     object \n",
      " 8   Meals             25 non-null     object \n",
      " 9   Total Cost        25 non-null     object \n",
      " 10  Rank              25 non-null     int64  \n",
      "dtypes: float64(2), int64(2), object(7)\n",
      "memory usage: 2.3+ KB\n"
     ]
    }
   ],
   "source": [
    "df.info()"
   ]
  },
  {
   "cell_type": "code",
   "execution_count": 7,
   "id": "2a471110",
   "metadata": {},
   "outputs": [],
   "source": [
    "lst = ['Flights', 'Hotels', 'Car', 'Meals', 'Total Cost']\n",
    "for i in lst:\n",
    "    df[i] = df[i].str[1:]"
   ]
  },
  {
   "cell_type": "code",
   "execution_count": 8,
   "id": "d7d3a3f3",
   "metadata": {},
   "outputs": [
    {
     "data": {
      "text/html": [
       "<div>\n",
       "<style scoped>\n",
       "    .dataframe tbody tr th:only-of-type {\n",
       "        vertical-align: middle;\n",
       "    }\n",
       "\n",
       "    .dataframe tbody tr th {\n",
       "        vertical-align: top;\n",
       "    }\n",
       "\n",
       "    .dataframe thead th {\n",
       "        text-align: right;\n",
       "    }\n",
       "</style>\n",
       "<table border=\"1\" class=\"dataframe\">\n",
       "  <thead>\n",
       "    <tr style=\"text-align: right;\">\n",
       "      <th></th>\n",
       "      <th>X.1</th>\n",
       "      <th>X.2</th>\n",
       "      <th>City</th>\n",
       "      <th>State</th>\n",
       "      <th>Avg. Summer Temp</th>\n",
       "      <th>Flights</th>\n",
       "      <th>Hotels</th>\n",
       "      <th>Car</th>\n",
       "      <th>Meals</th>\n",
       "      <th>Total Cost</th>\n",
       "      <th>Rank</th>\n",
       "    </tr>\n",
       "  </thead>\n",
       "  <tbody>\n",
       "    <tr>\n",
       "      <th>0</th>\n",
       "      <td>41.652914</td>\n",
       "      <td>-83.537817</td>\n",
       "      <td>Toledo</td>\n",
       "      <td>OH</td>\n",
       "      <td>87</td>\n",
       "      <td>736.92</td>\n",
       "      <td>723.96</td>\n",
       "      <td>135.72</td>\n",
       "      <td>1,134.00</td>\n",
       "      <td>2,730.60</td>\n",
       "      <td>1</td>\n",
       "    </tr>\n",
       "    <tr>\n",
       "      <th>1</th>\n",
       "      <td>35.472989</td>\n",
       "      <td>-97.517054</td>\n",
       "      <td>Oklahoma City</td>\n",
       "      <td>OK</td>\n",
       "      <td>82</td>\n",
       "      <td>1,181.28</td>\n",
       "      <td>764.40</td>\n",
       "      <td>154.83</td>\n",
       "      <td>1,171.08</td>\n",
       "      <td>3,271.59</td>\n",
       "      <td>2</td>\n",
       "    </tr>\n",
       "    <tr>\n",
       "      <th>2</th>\n",
       "      <td>28.542111</td>\n",
       "      <td>-81.379030</td>\n",
       "      <td>Orlando</td>\n",
       "      <td>FL</td>\n",
       "      <td>79</td>\n",
       "      <td>1,089.56</td>\n",
       "      <td>1,168.32</td>\n",
       "      <td>126.12</td>\n",
       "      <td>1,250.16</td>\n",
       "      <td>3,634.16</td>\n",
       "      <td>3</td>\n",
       "    </tr>\n",
       "    <tr>\n",
       "      <th>3</th>\n",
       "      <td>42.886717</td>\n",
       "      <td>-78.878392</td>\n",
       "      <td>Buffalo</td>\n",
       "      <td>NY</td>\n",
       "      <td>75</td>\n",
       "      <td>1,352.12</td>\n",
       "      <td>966.78</td>\n",
       "      <td>148.17</td>\n",
       "      <td>1,202.16</td>\n",
       "      <td>3,669.23</td>\n",
       "      <td>4</td>\n",
       "    </tr>\n",
       "    <tr>\n",
       "      <th>4</th>\n",
       "      <td>37.692236</td>\n",
       "      <td>-97.337545</td>\n",
       "      <td>Wichita</td>\n",
       "      <td>KS</td>\n",
       "      <td>74</td>\n",
       "      <td>1,764.64</td>\n",
       "      <td>619.56</td>\n",
       "      <td>125.61</td>\n",
       "      <td>1,162.92</td>\n",
       "      <td>3,672.73</td>\n",
       "      <td>5</td>\n",
       "    </tr>\n",
       "  </tbody>\n",
       "</table>\n",
       "</div>"
      ],
      "text/plain": [
       "         X.1        X.2           City State  Avg. Summer Temp    Flights  \\\n",
       "0  41.652914 -83.537817         Toledo    OH                87    736.92    \n",
       "1  35.472989 -97.517054  Oklahoma City    OK                82  1,181.28    \n",
       "2  28.542111 -81.379030        Orlando    FL                79  1,089.56    \n",
       "3  42.886717 -78.878392        Buffalo    NY                75  1,352.12    \n",
       "4  37.692236 -97.337545        Wichita    KS                74  1,764.64    \n",
       "\n",
       "      Hotels      Car      Meals Total Cost  Rank  \n",
       "0    723.96   135.72   1,134.00   2,730.60      1  \n",
       "1    764.40   154.83   1,171.08   3,271.59      2  \n",
       "2  1,168.32   126.12   1,250.16   3,634.16      3  \n",
       "3    966.78   148.17   1,202.16   3,669.23      4  \n",
       "4    619.56   125.61   1,162.92   3,672.73      5  "
      ]
     },
     "execution_count": 8,
     "metadata": {},
     "output_type": "execute_result"
    }
   ],
   "source": [
    "df.head()"
   ]
  },
  {
   "cell_type": "code",
   "execution_count": 9,
   "id": "896d4ba2",
   "metadata": {},
   "outputs": [
    {
     "data": {
      "text/plain": [
       "X.1                 0\n",
       "X.2                 0\n",
       "City                0\n",
       "State               0\n",
       "Avg. Summer Temp    0\n",
       "Flights             0\n",
       "Hotels              0\n",
       "Car                 0\n",
       "Meals               0\n",
       "Total Cost          0\n",
       "Rank                0\n",
       "dtype: int64"
      ]
     },
     "execution_count": 9,
     "metadata": {},
     "output_type": "execute_result"
    }
   ],
   "source": [
    "df.isnull().sum()"
   ]
  },
  {
   "cell_type": "code",
   "execution_count": 10,
   "id": "a86fe76f",
   "metadata": {},
   "outputs": [],
   "source": [
    "for i in df:\n",
    "    if df[i].dtype == object:\n",
    "        if df[i].isnull().sum() < 75*len(df[i]):\n",
    "            df[i] = df[i].astype('string')"
   ]
  },
  {
   "cell_type": "code",
   "execution_count": 11,
   "id": "84534d4d",
   "metadata": {},
   "outputs": [
    {
     "name": "stdout",
     "output_type": "stream",
     "text": [
      "<class 'pandas.core.frame.DataFrame'>\n",
      "RangeIndex: 25 entries, 0 to 24\n",
      "Data columns (total 11 columns):\n",
      " #   Column            Non-Null Count  Dtype  \n",
      "---  ------            --------------  -----  \n",
      " 0   X.1               25 non-null     float64\n",
      " 1   X.2               25 non-null     float64\n",
      " 2   City              25 non-null     string \n",
      " 3   State             25 non-null     string \n",
      " 4   Avg. Summer Temp  25 non-null     int64  \n",
      " 5   Flights           25 non-null     string \n",
      " 6   Hotels            25 non-null     string \n",
      " 7   Car               25 non-null     string \n",
      " 8   Meals             25 non-null     string \n",
      " 9   Total Cost        25 non-null     string \n",
      " 10  Rank              25 non-null     int64  \n",
      "dtypes: float64(2), int64(2), string(7)\n",
      "memory usage: 2.3 KB\n"
     ]
    }
   ],
   "source": [
    "df.info()"
   ]
  },
  {
   "cell_type": "code",
   "execution_count": 12,
   "id": "7e6c9ed5",
   "metadata": {},
   "outputs": [
    {
     "name": "stdout",
     "output_type": "stream",
     "text": [
      "   State     Region\n",
      "0     OH    Midwest\n",
      "1     OK      South\n",
      "2     FL      South\n",
      "3     NY  Northeast\n",
      "4     KS    Midwest\n",
      "5     IN    Midwest\n",
      "6     OK      South\n",
      "7     VA      South\n",
      "8     MO    Midwest\n",
      "9     PA  Northeast\n",
      "10    NC      South\n",
      "11    TX      South\n",
      "12    OH    Midwest\n",
      "13    TN      South\n",
      "14    NC      South\n",
      "15    OH    Midwest\n",
      "16    WA       West\n",
      "17    FL      South\n",
      "18    MO    Midwest\n",
      "19    MD      South\n",
      "20    TX      South\n",
      "21    CA       West\n",
      "22    CO       West\n",
      "23    WI    Midwest\n",
      "24    OH    Midwest\n"
     ]
    }
   ],
   "source": [
    "state_to_region = {\n",
    "'OH': 'Midwest',\n",
    "'OK': 'South',\n",
    "'FL': 'South',\n",
    "'NY': 'Northeast',\n",
    "'KS': 'Midwest',\n",
    "'IN': 'Midwest',\n",
    "'OK': 'South',\n",
    "'VA': 'South',\n",
    "'MO': 'Midwest',\n",
    "'PA': 'Northeast',\n",
    "'NC': 'South',\n",
    "'TX': 'South',\n",
    "'OH': 'Midwest',\n",
    "'TN': 'South',\n",
    "'NC': 'South',\n",
    "'OH': 'Midwest',\n",
    "'WA': 'West',\n",
    "'FL': 'South',\n",
    "'MO': 'Midwest',\n",
    "'MD': 'South',\n",
    "'TX': 'South',\n",
    "'CA': 'West',\n",
    "'CO': 'West',\n",
    "'WI': 'Midwest',\n",
    "'OH': 'Midwest'\n",
    "}\n",
    "df['Region'] = df['State'].map(state_to_region)\n",
    "\n",
    "print(df[['State', 'Region']])"
   ]
  },
  {
   "cell_type": "code",
   "execution_count": 13,
   "id": "bee0316e",
   "metadata": {},
   "outputs": [
    {
     "data": {
      "text/plain": [
       "Index(['X.1', 'X.2', 'City', 'State', 'Avg. Summer Temp', 'Flights', 'Hotels',\n",
       "       'Car', 'Meals', 'Total Cost', 'Rank', 'Region'],\n",
       "      dtype='object')"
      ]
     },
     "execution_count": 13,
     "metadata": {},
     "output_type": "execute_result"
    }
   ],
   "source": [
    "df.columns"
   ]
  },
  {
   "cell_type": "code",
   "execution_count": 30,
   "id": "6115b78e",
   "metadata": {},
   "outputs": [],
   "source": [
    "df.to_csv('C:/Users/jshaik2452/Downloads/Cleaned Datasets/EDA completed datasets/Affordable cities and their details.csv', index=False)\n"
   ]
  },
  {
   "cell_type": "code",
   "execution_count": 14,
   "id": "336385ac",
   "metadata": {},
   "outputs": [
    {
     "data": {
      "text/html": [
       "<div>\n",
       "<style scoped>\n",
       "    .dataframe tbody tr th:only-of-type {\n",
       "        vertical-align: middle;\n",
       "    }\n",
       "\n",
       "    .dataframe tbody tr th {\n",
       "        vertical-align: top;\n",
       "    }\n",
       "\n",
       "    .dataframe thead th {\n",
       "        text-align: right;\n",
       "    }\n",
       "</style>\n",
       "<table border=\"1\" class=\"dataframe\">\n",
       "  <thead>\n",
       "    <tr style=\"text-align: right;\">\n",
       "      <th></th>\n",
       "      <th>X.1</th>\n",
       "      <th>X.2</th>\n",
       "      <th>City</th>\n",
       "      <th>State</th>\n",
       "      <th>Avg. Summer Temp</th>\n",
       "      <th>Flights</th>\n",
       "      <th>Hotels</th>\n",
       "      <th>Car</th>\n",
       "      <th>Meals</th>\n",
       "      <th>Total Cost</th>\n",
       "      <th>Rank</th>\n",
       "      <th>Region</th>\n",
       "    </tr>\n",
       "  </thead>\n",
       "  <tbody>\n",
       "    <tr>\n",
       "      <th>0</th>\n",
       "      <td>41.652914</td>\n",
       "      <td>-83.537817</td>\n",
       "      <td>Toledo</td>\n",
       "      <td>OH</td>\n",
       "      <td>87</td>\n",
       "      <td>736.92</td>\n",
       "      <td>723.96</td>\n",
       "      <td>135.72</td>\n",
       "      <td>1,134.00</td>\n",
       "      <td>2,730.60</td>\n",
       "      <td>1</td>\n",
       "      <td>Midwest</td>\n",
       "    </tr>\n",
       "    <tr>\n",
       "      <th>1</th>\n",
       "      <td>35.472989</td>\n",
       "      <td>-97.517054</td>\n",
       "      <td>Oklahoma City</td>\n",
       "      <td>OK</td>\n",
       "      <td>82</td>\n",
       "      <td>1,181.28</td>\n",
       "      <td>764.40</td>\n",
       "      <td>154.83</td>\n",
       "      <td>1,171.08</td>\n",
       "      <td>3,271.59</td>\n",
       "      <td>2</td>\n",
       "      <td>South</td>\n",
       "    </tr>\n",
       "    <tr>\n",
       "      <th>2</th>\n",
       "      <td>28.542111</td>\n",
       "      <td>-81.379030</td>\n",
       "      <td>Orlando</td>\n",
       "      <td>FL</td>\n",
       "      <td>79</td>\n",
       "      <td>1,089.56</td>\n",
       "      <td>1,168.32</td>\n",
       "      <td>126.12</td>\n",
       "      <td>1,250.16</td>\n",
       "      <td>3,634.16</td>\n",
       "      <td>3</td>\n",
       "      <td>South</td>\n",
       "    </tr>\n",
       "    <tr>\n",
       "      <th>3</th>\n",
       "      <td>42.886717</td>\n",
       "      <td>-78.878392</td>\n",
       "      <td>Buffalo</td>\n",
       "      <td>NY</td>\n",
       "      <td>75</td>\n",
       "      <td>1,352.12</td>\n",
       "      <td>966.78</td>\n",
       "      <td>148.17</td>\n",
       "      <td>1,202.16</td>\n",
       "      <td>3,669.23</td>\n",
       "      <td>4</td>\n",
       "      <td>Northeast</td>\n",
       "    </tr>\n",
       "    <tr>\n",
       "      <th>4</th>\n",
       "      <td>37.692236</td>\n",
       "      <td>-97.337545</td>\n",
       "      <td>Wichita</td>\n",
       "      <td>KS</td>\n",
       "      <td>74</td>\n",
       "      <td>1,764.64</td>\n",
       "      <td>619.56</td>\n",
       "      <td>125.61</td>\n",
       "      <td>1,162.92</td>\n",
       "      <td>3,672.73</td>\n",
       "      <td>5</td>\n",
       "      <td>Midwest</td>\n",
       "    </tr>\n",
       "    <tr>\n",
       "      <th>5</th>\n",
       "      <td>39.768333</td>\n",
       "      <td>-86.158350</td>\n",
       "      <td>Indianapolis</td>\n",
       "      <td>IN</td>\n",
       "      <td>91</td>\n",
       "      <td>1,684.92</td>\n",
       "      <td>684.00</td>\n",
       "      <td>144.78</td>\n",
       "      <td>1,174.56</td>\n",
       "      <td>3,688.26</td>\n",
       "      <td>6</td>\n",
       "      <td>Midwest</td>\n",
       "    </tr>\n",
       "    <tr>\n",
       "      <th>6</th>\n",
       "      <td>36.156312</td>\n",
       "      <td>-95.992752</td>\n",
       "      <td>Tulsa</td>\n",
       "      <td>OK</td>\n",
       "      <td>72</td>\n",
       "      <td>1,713.60</td>\n",
       "      <td>666.24</td>\n",
       "      <td>134.70</td>\n",
       "      <td>1,177.32</td>\n",
       "      <td>3,691.86</td>\n",
       "      <td>7</td>\n",
       "      <td>South</td>\n",
       "    </tr>\n",
       "    <tr>\n",
       "      <th>7</th>\n",
       "      <td>37.538509</td>\n",
       "      <td>-77.434280</td>\n",
       "      <td>Richmond</td>\n",
       "      <td>VA</td>\n",
       "      <td>91</td>\n",
       "      <td>1,600.20</td>\n",
       "      <td>783.48</td>\n",
       "      <td>141.09</td>\n",
       "      <td>1,245.60</td>\n",
       "      <td>3,770.37</td>\n",
       "      <td>8</td>\n",
       "      <td>South</td>\n",
       "    </tr>\n",
       "    <tr>\n",
       "      <th>8</th>\n",
       "      <td>39.100105</td>\n",
       "      <td>-94.578142</td>\n",
       "      <td>Kansas City</td>\n",
       "      <td>MO</td>\n",
       "      <td>81</td>\n",
       "      <td>1,560.60</td>\n",
       "      <td>858.24</td>\n",
       "      <td>142.08</td>\n",
       "      <td>1,211.64</td>\n",
       "      <td>3,772.56</td>\n",
       "      <td>9</td>\n",
       "      <td>Midwest</td>\n",
       "    </tr>\n",
       "    <tr>\n",
       "      <th>9</th>\n",
       "      <td>40.441694</td>\n",
       "      <td>-79.990086</td>\n",
       "      <td>Pittsburgh</td>\n",
       "      <td>PA</td>\n",
       "      <td>85</td>\n",
       "      <td>1,582.04</td>\n",
       "      <td>824.40</td>\n",
       "      <td>157.59</td>\n",
       "      <td>1,226.28</td>\n",
       "      <td>3,790.31</td>\n",
       "      <td>10</td>\n",
       "      <td>Northeast</td>\n",
       "    </tr>\n",
       "  </tbody>\n",
       "</table>\n",
       "</div>"
      ],
      "text/plain": [
       "         X.1        X.2           City State  Avg. Summer Temp    Flights  \\\n",
       "0  41.652914 -83.537817         Toledo    OH                87    736.92    \n",
       "1  35.472989 -97.517054  Oklahoma City    OK                82  1,181.28    \n",
       "2  28.542111 -81.379030        Orlando    FL                79  1,089.56    \n",
       "3  42.886717 -78.878392        Buffalo    NY                75  1,352.12    \n",
       "4  37.692236 -97.337545        Wichita    KS                74  1,764.64    \n",
       "5  39.768333 -86.158350   Indianapolis    IN                91  1,684.92    \n",
       "6  36.156312 -95.992752          Tulsa    OK                72  1,713.60    \n",
       "7  37.538509 -77.434280       Richmond    VA                91  1,600.20    \n",
       "8  39.100105 -94.578142    Kansas City    MO                81  1,560.60    \n",
       "9  40.441694 -79.990086     Pittsburgh    PA                85  1,582.04    \n",
       "\n",
       "      Hotels      Car      Meals Total Cost  Rank     Region  \n",
       "0    723.96   135.72   1,134.00   2,730.60      1    Midwest  \n",
       "1    764.40   154.83   1,171.08   3,271.59      2      South  \n",
       "2  1,168.32   126.12   1,250.16   3,634.16      3      South  \n",
       "3    966.78   148.17   1,202.16   3,669.23      4  Northeast  \n",
       "4    619.56   125.61   1,162.92   3,672.73      5    Midwest  \n",
       "5    684.00   144.78   1,174.56   3,688.26      6    Midwest  \n",
       "6    666.24   134.70   1,177.32   3,691.86      7      South  \n",
       "7    783.48   141.09   1,245.60   3,770.37      8      South  \n",
       "8    858.24   142.08   1,211.64   3,772.56      9    Midwest  \n",
       "9    824.40   157.59   1,226.28   3,790.31     10  Northeast  "
      ]
     },
     "execution_count": 14,
     "metadata": {},
     "output_type": "execute_result"
    }
   ],
   "source": [
    "df.head(10)"
   ]
  },
  {
   "cell_type": "code",
   "execution_count": 16,
   "id": "48d824f0",
   "metadata": {},
   "outputs": [
    {
     "data": {
      "image/png": "[encoded data removed]",
      "text/plain": [
       "<Figure size 1100x800 with 4 Axes>"
      ]
     },
     "metadata": {},
     "output_type": "display_data"
    }
   ],
   "source": [
    "df.hist(bins=50,figsize=(11,8))\n",
    "plt.show()"
   ]
  },
  {
   "cell_type": "code",
   "execution_count": 75,
   "id": "042a3de9",
   "metadata": {},
   "outputs": [],
   "source": [
    "df['Total Cost'] = df['Total Cost'].str.replace(',','')\n",
    "df['Total Cost'] = pd.to_numeric(df['Total Cost'])"
   ]
  },
  {
   "cell_type": "code",
   "execution_count": 139,
   "id": "d18fbb68",
   "metadata": {},
   "outputs": [],
   "source": [
    "df['Flights'] = df['Flights'].astype(str).str.replace(',','')\n",
    "df['Flights'] = pd.to_numeric(df['Flights'])\n",
    "df['Hotels'] = df['Hotels'].astype(str).str.replace(',','')\n",
    "df['Hotels'] = pd.to_numeric(df['Hotels'])\n",
    "df['Car'] = df['Car'].astype(str).str.replace(',','')\n",
    "df['Car'] = pd.to_numeric(df['Car'])\n",
    "df['Meals'] = df['Meals'].astype(str).str.replace(',','')\n",
    "df['Meals'] = pd.to_numeric(df['Meals'])"
   ]
  },
  {
   "cell_type": "code",
   "execution_count": 140,
   "id": "259aef23",
   "metadata": {
    "scrolled": true
   },
   "outputs": [
    {
     "name": "stderr",
     "output_type": "stream",
     "text": [
      "C:\\Users\\jshaik2452\\AppData\\Local\\anaconda3\\Lib\\site-packages\\pandas\\plotting\\_matplotlib\\core.py:1259: UserWarning:\n",
      "\n",
      "No data for colormapping provided via 'c'. Parameters 'cmap' will be ignored\n",
      "\n"
     ]
    },
    {
     "data": {
      "image/png": "[encoded data removed]",
      "text/plain": [
       "<Figure size 1000x700 with 2 Axes>"
      ]
     },
     "metadata": {},
     "output_type": "display_data"
    }
   ],
   "source": [
    "df.plot(kind='scatter', x='X.2', y='X.1',label=\"City\",cmap=plt.get_cmap(\"jet\"), colorbar=True, alpha=0.4, figsize=(10,7))\n",
    "\n",
    "plt.legend()\n",
    "plt.show()"
   ]
  },
  {
   "cell_type": "code",
   "execution_count": 141,
   "id": "69422220",
   "metadata": {},
   "outputs": [
    {
     "name": "stdout",
     "output_type": "stream",
     "text": [
      "<class 'pandas.core.frame.DataFrame'>\n",
      "RangeIndex: 25 entries, 0 to 24\n",
      "Data columns (total 12 columns):\n",
      " #   Column            Non-Null Count  Dtype  \n",
      "---  ------            --------------  -----  \n",
      " 0   X.1               25 non-null     float64\n",
      " 1   X.2               25 non-null     float64\n",
      " 2   City              25 non-null     string \n",
      " 3   State             25 non-null     string \n",
      " 4   Avg. Summer Temp  25 non-null     int64  \n",
      " 5   Flights           25 non-null     float64\n",
      " 6   Hotels            25 non-null     float64\n",
      " 7   Car               25 non-null     float64\n",
      " 8   Meals             25 non-null     float64\n",
      " 9   Total Cost        25 non-null     float64\n",
      " 10  Rank              25 non-null     int64  \n",
      " 11  Region            25 non-null     object \n",
      "dtypes: float64(7), int64(2), object(1), string(2)\n",
      "memory usage: 2.5+ KB\n"
     ]
    }
   ],
   "source": [
    "df.info()"
   ]
  },
  {
   "cell_type": "code",
   "execution_count": 142,
   "id": "d1ce4eee",
   "metadata": {},
   "outputs": [
    {
     "data": {
      "application/vnd.plotly.v1+json": {
       "config": {
        "plotlyServerURL": "https://plot.ly"
       },
       "data": [
        {
         "customdata": [
          [
           87,
           736.92,
           723.96,
           135.72,
           1134
          ],
          [
           89,
           1429.16,
           1062,
           149.34,
           1218.6
          ],
          [
           91,
           1637.16,
           923.4,
           142.5,
           1221.96
          ],
          [
           88,
           1569.84,
           966.48,
           151.77,
           1302.24
          ]
         ],
         "hovertemplate": "<b>%{hovertext}</b><br><br>State=OH<br>Total Cost=%{marker.size}<br>X.1=%{lat}<br>X.2=%{lon}<br>Avg. Summer Temp=%{customdata[0]}<br>Flights=%{customdata[1]}<br>Hotels=%{customdata[2]}<br>Car=%{customdata[3]}<br>Meals=%{customdata[4]}<extra></extra>",
         "hovertext": [
          "Toledo",
          "Cleveland",
          "Columbus",
          "Cincinnati"
         ],
         "lat": [
          41.6529143,
          41.4996574,
          39.9622601,
          39.1014537
         ],
         "legendgroup": "OH",
         "lon": [
          -83.5378173,
          -81.6936772,
          -83.0007065,
          -84.5124602
         ],
         "marker": {
          "color": "#636efa",
          "size": [
           2730.6,
           3859.1,
           3925.02,
           3990.33
          ],
          "sizemode": "area",
          "sizeref": 9.975825
         },
         "mode": "markers",
         "name": "OH",
         "showlegend": true,
         "subplot": "mapbox",
         "type": "scattermapbox"
        },
        {
         "customdata": [
          [
           82,
           1181.28,
           764.4,
           154.83,
           1171.08
          ],
          [
           72,
           1713.6,
           666.24,
           134.7,
           1177.32
          ]
         ],
         "hovertemplate": "<b>%{hovertext}</b><br><br>State=OK<br>Total Cost=%{marker.size}<br>X.1=%{lat}<br>X.2=%{lon}<br>Avg. Summer Temp=%{customdata[0]}<br>Flights=%{customdata[1]}<br>Hotels=%{customdata[2]}<br>Car=%{customdata[3]}<br>Meals=%{customdata[4]}<extra></extra>",
         "hovertext": [
          "Oklahoma City",
          "Tulsa"
         ],
         "lat": [
          35.4729886,
          36.1563122
         ],
         "legendgroup": "OK",
         "lon": [
          -97.5170536,
          -95.9927516
         ],
         "marker": {
          "color": "#EF553B",
          "size": [
           3271.59,
           3691.86
          ],
          "sizemode": "area",
          "sizeref": 9.975825
         },
         "mode": "markers",
         "name": "OK",
         "showlegend": true,
         "subplot": "mapbox",
         "type": "scattermapbox"
        },
        {
         "customdata": [
          [
           79,
           1089.56,
           1168.32,
           126.12,
           1250.16
          ],
          [
           86,
           1369.12,
           1199.1,
           133.26,
           1234.68
          ]
         ],
         "hovertemplate": "<b>%{hovertext}</b><br><br>State=FL<br>Total Cost=%{marker.size}<br>X.1=%{lat}<br>X.2=%{lon}<br>Avg. Summer Temp=%{customdata[0]}<br>Flights=%{customdata[1]}<br>Hotels=%{customdata[2]}<br>Car=%{customdata[3]}<br>Meals=%{customdata[4]}<extra></extra>",
         "hovertext": [
          "Orlando",
          "Tampa"
         ],
         "lat": [
          28.5421109,
          27.9477595
         ],
         "legendgroup": "FL",
         "lon": [
          -81.3790304,
          -82.458444
         ],
         "marker": {
          "color": "#00cc96",
          "size": [
           3634.16,
           3936.16
          ],
          "sizemode": "area",
          "sizeref": 9.975825
         },
         "mode": "markers",
         "name": "FL",
         "showlegend": true,
         "subplot": "mapbox",
         "type": "scattermapbox"
        },
        {
         "customdata": [
          [
           75,
           1352.12,
           966.78,
           148.17,
           1202.16
          ]
         ],
         "hovertemplate": "<b>%{hovertext}</b><br><br>State=NY<br>Total Cost=%{marker.size}<br>X.1=%{lat}<br>X.2=%{lon}<br>Avg. Summer Temp=%{customdata[0]}<br>Flights=%{customdata[1]}<br>Hotels=%{customdata[2]}<br>Car=%{customdata[3]}<br>Meals=%{customdata[4]}<extra></extra>",
         "hovertext": [
          "Buffalo"
         ],
         "lat": [
          42.8867166
         ],
         "legendgroup": "NY",
         "lon": [
          -78.8783922
         ],
         "marker": {
          "color": "#ab63fa",
          "size": [
           3669.23
          ],
          "sizemode": "area",
          "sizeref": 9.975825
         },
         "mode": "markers",
         "name": "NY",
         "showlegend": true,
         "subplot": "mapbox",
         "type": "scattermapbox"
        },
        {
         "customdata": [
          [
           74,
           1764.64,
           619.56,
           125.61,
           1162.92
          ]
         ],
         "hovertemplate": "<b>%{hovertext}</b><br><br>State=KS<br>Total Cost=%{marker.size}<br>X.1=%{lat}<br>X.2=%{lon}<br>Avg. Summer Temp=%{customdata[0]}<br>Flights=%{customdata[1]}<br>Hotels=%{customdata[2]}<br>Car=%{customdata[3]}<br>Meals=%{customdata[4]}<extra></extra>",
         "hovertext": [
          "Wichita"
         ],
         "lat": [
          37.6922361
         ],
         "legendgroup": "KS",
         "lon": [
          -97.3375448
         ],
         "marker": {
          "color": "#FFA15A",
          "size": [
           3672.73
          ],
          "sizemode": "area",
          "sizeref": 9.975825
         },
         "mode": "markers",
         "name": "KS",
         "showlegend": true,
         "subplot": "mapbox",
         "type": "scattermapbox"
        },
        {
         "customdata": [
          [
           91,
           1684.92,
           684,
           144.78,
           1174.56
          ]
         ],
         "hovertemplate": "<b>%{hovertext}</b><br><br>State=IN<br>Total Cost=%{marker.size}<br>X.1=%{lat}<br>X.2=%{lon}<br>Avg. Summer Temp=%{customdata[0]}<br>Flights=%{customdata[1]}<br>Hotels=%{customdata[2]}<br>Car=%{customdata[3]}<br>Meals=%{customdata[4]}<extra></extra>",
         "hovertext": [
          "Indianapolis"
         ],
         "lat": [
          39.7683331
         ],
         "legendgroup": "IN",
         "lon": [
          -86.1583502
         ],
         "marker": {
          "color": "#19d3f3",
          "size": [
           3688.26
          ],
          "sizemode": "area",
          "sizeref": 9.975825
         },
         "mode": "markers",
         "name": "IN",
         "showlegend": true,
         "subplot": "mapbox",
         "type": "scattermapbox"
        },
        {
         "customdata": [
          [
           91,
           1600.2,
           783.48,
           141.09,
           1245.6
          ]
         ],
         "hovertemplate": "<b>%{hovertext}</b><br><br>State=VA<br>Total Cost=%{marker.size}<br>X.1=%{lat}<br>X.2=%{lon}<br>Avg. Summer Temp=%{customdata[0]}<br>Flights=%{customdata[1]}<br>Hotels=%{customdata[2]}<br>Car=%{customdata[3]}<br>Meals=%{customdata[4]}<extra></extra>",
         "hovertext": [
          "Richmond"
         ],
         "lat": [
          37.5385087
         ],
         "legendgroup": "VA",
         "lon": [
          -77.43428
         ],
         "marker": {
          "color": "#FF6692",
          "size": [
           3770.37
          ],
          "sizemode": "area",
          "sizeref": 9.975825
         },
         "mode": "markers",
         "name": "VA",
         "showlegend": true,
         "subplot": "mapbox",
         "type": "scattermapbox"
        },
        {
         "customdata": [
          [
           81,
           1560.6,
           858.24,
           142.08,
           1211.64
          ],
          [
           89,
           1545.32,
           978.36,
           143.37,
           1274.52
          ]
         ],
         "hovertemplate": "<b>%{hovertext}</b><br><br>State=MO<br>Total Cost=%{marker.size}<br>X.1=%{lat}<br>X.2=%{lon}<br>Avg. Summer Temp=%{customdata[0]}<br>Flights=%{customdata[1]}<br>Hotels=%{customdata[2]}<br>Car=%{customdata[3]}<br>Meals=%{customdata[4]}<extra></extra>",
         "hovertext": [
          "Kansas City",
          "St. Louis"
         ],
         "lat": [
          39.100105,
          38.6280278
         ],
         "legendgroup": "MO",
         "lon": [
          -94.5781416,
          -90.1910154
         ],
         "marker": {
          "color": "#B6E880",
          "size": [
           3772.56,
           3941.57
          ],
          "sizemode": "area",
          "sizeref": 9.975825
         },
         "mode": "markers",
         "name": "MO",
         "showlegend": true,
         "subplot": "mapbox",
         "type": "scattermapbox"
        },
        {
         "customdata": [
          [
           85,
           1582.04,
           824.4,
           157.59,
           1226.28
          ]
         ],
         "hovertemplate": "<b>%{hovertext}</b><br><br>State=PA<br>Total Cost=%{marker.size}<br>X.1=%{lat}<br>X.2=%{lon}<br>Avg. Summer Temp=%{customdata[0]}<br>Flights=%{customdata[1]}<br>Hotels=%{customdata[2]}<br>Car=%{customdata[3]}<br>Meals=%{customdata[4]}<extra></extra>",
         "hovertext": [
          "Pittsburgh"
         ],
         "lat": [
          40.4416941
         ],
         "legendgroup": "PA",
         "lon": [
          -79.9900861
         ],
         "marker": {
          "color": "#FF97FF",
          "size": [
           3790.31
          ],
          "sizemode": "area",
          "sizeref": 9.975825
         },
         "mode": "markers",
         "name": "PA",
         "showlegend": true,
         "subplot": "mapbox",
         "type": "scattermapbox"
        },
        {
         "customdata": [
          [
           82,
           1706,
           801.96,
           125.76,
           1218.36
          ],
          [
           77,
           1667.64,
           950.22,
           137.85,
           1109.76
          ]
         ],
         "hovertemplate": "<b>%{hovertext}</b><br><br>State=NC<br>Total Cost=%{marker.size}<br>X.1=%{lat}<br>X.2=%{lon}<br>Avg. Summer Temp=%{customdata[0]}<br>Flights=%{customdata[1]}<br>Hotels=%{customdata[2]}<br>Car=%{customdata[3]}<br>Meals=%{customdata[4]}<extra></extra>",
         "hovertext": [
          "Greensboro",
          "Raleigh"
         ],
         "lat": [
          36.0726355,
          35.7803977
         ],
         "legendgroup": "NC",
         "lon": [
          -79.7919754,
          -78.6390989
         ],
         "marker": {
          "color": "#FECB52",
          "size": [
           3852.08,
           3865.47
          ],
          "sizemode": "area",
          "sizeref": 9.975825
         },
         "mode": "markers",
         "name": "NC",
         "showlegend": true,
         "subplot": "mapbox",
         "type": "scattermapbox"
        },
        {
         "customdata": [
          [
           93,
           2012.6,
           657.72,
           148.38,
           1036.92
          ],
          [
           91,
           1615.76,
           842.4,
           151.71,
           1335.36
          ]
         ],
         "hovertemplate": "<b>%{hovertext}</b><br><br>State=TX<br>Total Cost=%{marker.size}<br>X.1=%{lat}<br>X.2=%{lon}<br>Avg. Summer Temp=%{customdata[0]}<br>Flights=%{customdata[1]}<br>Hotels=%{customdata[2]}<br>Car=%{customdata[3]}<br>Meals=%{customdata[4]}<extra></extra>",
         "hovertext": [
          "Corpus Christi",
          "Houston"
         ],
         "lat": [
          27.7635302,
          29.7589382
         ],
         "legendgroup": "TX",
         "lon": [
          -97.4033191,
          -95.3676974
         ],
         "marker": {
          "color": "#636efa",
          "size": [
           3855.62,
           3945.23
          ],
          "sizemode": "area",
          "sizeref": 9.975825
         },
         "mode": "markers",
         "name": "TX",
         "showlegend": true,
         "subplot": "mapbox",
         "type": "scattermapbox"
        },
        {
         "customdata": [
          [
           91,
           1397.88,
           1136.52,
           155.73,
           1169.04
          ]
         ],
         "hovertemplate": "<b>%{hovertext}</b><br><br>State=TN<br>Total Cost=%{marker.size}<br>X.1=%{lat}<br>X.2=%{lon}<br>Avg. Summer Temp=%{customdata[0]}<br>Flights=%{customdata[1]}<br>Hotels=%{customdata[2]}<br>Car=%{customdata[3]}<br>Meals=%{customdata[4]}<extra></extra>",
         "hovertext": [
          "Nashville"
         ],
         "lat": [
          36.1622767
         ],
         "legendgroup": "TN",
         "lon": [
          -86.7742984
         ],
         "marker": {
          "color": "#EF553B",
          "size": [
           3859.17
          ],
          "sizemode": "area",
          "sizeref": 9.975825
         },
         "mode": "markers",
         "name": "TN",
         "showlegend": true,
         "subplot": "mapbox",
         "type": "scattermapbox"
        },
        {
         "customdata": [
          [
           81,
           1730.88,
           839.88,
           149.91,
           1206.36
          ]
         ],
         "hovertemplate": "<b>%{hovertext}</b><br><br>State=WA<br>Total Cost=%{marker.size}<br>X.1=%{lat}<br>X.2=%{lon}<br>Avg. Summer Temp=%{customdata[0]}<br>Flights=%{customdata[1]}<br>Hotels=%{customdata[2]}<br>Car=%{customdata[3]}<br>Meals=%{customdata[4]}<extra></extra>",
         "hovertext": [
          "Spokane"
         ],
         "lat": [
          47.6571934
         ],
         "legendgroup": "WA",
         "lon": [
          -117.42351
         ],
         "marker": {
          "color": "#00cc96",
          "size": [
           3927.03
          ],
          "sizemode": "area",
          "sizeref": 9.975825
         },
         "mode": "markers",
         "name": "WA",
         "showlegend": true,
         "subplot": "mapbox",
         "type": "scattermapbox"
        },
        {
         "customdata": [
          [
           82,
           1425.28,
           1108.74,
           134.49,
           1275.6
          ]
         ],
         "hovertemplate": "<b>%{hovertext}</b><br><br>State=MD<br>Total Cost=%{marker.size}<br>X.1=%{lat}<br>X.2=%{lon}<br>Avg. Summer Temp=%{customdata[0]}<br>Flights=%{customdata[1]}<br>Hotels=%{customdata[2]}<br>Car=%{customdata[3]}<br>Meals=%{customdata[4]}<extra></extra>",
         "hovertext": [
          "Baltimore"
         ],
         "lat": [
          39.2908816
         ],
         "legendgroup": "MD",
         "lon": [
          -76.610759
         ],
         "marker": {
          "color": "#ab63fa",
          "size": [
           3944.11
          ],
          "sizemode": "area",
          "sizeref": 9.975825
         },
         "mode": "markers",
         "name": "MD",
         "showlegend": true,
         "subplot": "mapbox",
         "type": "scattermapbox"
        },
        {
         "customdata": [
          [
           86,
           1502.84,
           952.2,
           131.49,
           1374.6
          ]
         ],
         "hovertemplate": "<b>%{hovertext}</b><br><br>State=CA<br>Total Cost=%{marker.size}<br>X.1=%{lat}<br>X.2=%{lon}<br>Avg. Summer Temp=%{customdata[0]}<br>Flights=%{customdata[1]}<br>Hotels=%{customdata[2]}<br>Car=%{customdata[3]}<br>Meals=%{customdata[4]}<extra></extra>",
         "hovertext": [
          "Sacramento"
         ],
         "lat": [
          38.5810606
         ],
         "legendgroup": "CA",
         "lon": [
          -121.493895
         ],
         "marker": {
          "color": "#FFA15A",
          "size": [
           3961.13
          ],
          "sizemode": "area",
          "sizeref": 9.975825
         },
         "mode": "markers",
         "name": "CA",
         "showlegend": true,
         "subplot": "mapbox",
         "type": "scattermapbox"
        },
        {
         "customdata": [
          [
           92,
           1384.12,
           1054.26,
           164.67,
           1359.12
          ]
         ],
         "hovertemplate": "<b>%{hovertext}</b><br><br>State=CO<br>Total Cost=%{marker.size}<br>X.1=%{lat}<br>X.2=%{lon}<br>Avg. Summer Temp=%{customdata[0]}<br>Flights=%{customdata[1]}<br>Hotels=%{customdata[2]}<br>Car=%{customdata[3]}<br>Meals=%{customdata[4]}<extra></extra>",
         "hovertext": [
          "Denver"
         ],
         "lat": [
          39.7392364
         ],
         "legendgroup": "CO",
         "lon": [
          -104.984862
         ],
         "marker": {
          "color": "#19d3f3",
          "size": [
           3962.17
          ],
          "sizemode": "area",
          "sizeref": 9.975825
         },
         "mode": "markers",
         "name": "CO",
         "showlegend": true,
         "subplot": "mapbox",
         "type": "scattermapbox"
        },
        {
         "customdata": [
          [
           87,
           1650.04,
           843.12,
           161.94,
           1332.96
          ]
         ],
         "hovertemplate": "<b>%{hovertext}</b><br><br>State=WI<br>Total Cost=%{marker.size}<br>X.1=%{lat}<br>X.2=%{lon}<br>Avg. Summer Temp=%{customdata[0]}<br>Flights=%{customdata[1]}<br>Hotels=%{customdata[2]}<br>Car=%{customdata[3]}<br>Meals=%{customdata[4]}<extra></extra>",
         "hovertext": [
          "Milwaukee"
         ],
         "lat": [
          43.0349931
         ],
         "legendgroup": "WI",
         "lon": [
          -87.922497
         ],
         "marker": {
          "color": "#FF6692",
          "size": [
           3988.06
          ],
          "sizemode": "area",
          "sizeref": 9.975825
         },
         "mode": "markers",
         "name": "WI",
         "showlegend": true,
         "subplot": "mapbox",
         "type": "scattermapbox"
        }
       ],
       "layout": {
        "height": 800,
        "legend": {
         "itemsizing": "constant",
         "title": {
          "text": "State"
         },
         "tracegroupgap": 0
        },
        "mapbox": {
         "center": {
          "lat": 37.60928886,
          "lon": -89.64286653199999
         },
         "domain": {
          "x": [
           0,
           1
          ],
          "y": [
           0,
           1
          ]
         },
         "style": "open-street-map",
         "zoom": 3
        },
        "margin": {
         "b": 0,
         "l": 0,
         "r": 0,
         "t": 0
        },
        "template": {
         "data": {
          "bar": [
           {
            "error_x": {
             "color": "#2a3f5f"
            },
            "error_y": {
             "color": "#2a3f5f"
            },
            "marker": {
             "line": {
              "color": "#E5ECF6",
              "width": 0.5
             },
             "pattern": {
              "fillmode": "overlay",
              "size": 10,
              "solidity": 0.2
             }
            },
            "type": "bar"
           }
          ],
          "barpolar": [
           {
            "marker": {
             "line": {
              "color": "#E5ECF6",
              "width": 0.5
             },
             "pattern": {
              "fillmode": "overlay",
              "size": 10,
              "solidity": 0.2
             }
            },
            "type": "barpolar"
           }
          ],
          "carpet": [
           {
            "aaxis": {
             "endlinecolor": "#2a3f5f",
             "gridcolor": "white",
             "linecolor": "white",
             "minorgridcolor": "white",
             "startlinecolor": "#2a3f5f"
            },
            "baxis": {
             "endlinecolor": "#2a3f5f",
             "gridcolor": "white",
             "linecolor": "white",
             "minorgridcolor": "white",
             "startlinecolor": "#2a3f5f"
            },
            "type": "carpet"
           }
          ],
          "choropleth": [
           {
            "colorbar": {
             "outlinewidth": 0,
             "ticks": ""
            },
            "type": "choropleth"
           }
          ],
          "contour": [
           {
            "colorbar": {
             "outlinewidth": 0,
             "ticks": ""
            },
            "colorscale": [
             [
              0,
              "#0d0887"
             ],
             [
              0.1111111111111111,
              "#46039f"
             ],
             [
              0.2222222222222222,
              "#7201a8"
             ],
             [
              0.3333333333333333,
              "#9c179e"
             ],
             [
              0.4444444444444444,
              "#bd3786"
             ],
             [
              0.5555555555555556,
              "#d8576b"
             ],
             [
              0.6666666666666666,
              "#ed7953"
             ],
             [
              0.7777777777777778,
              "#fb9f3a"
             ],
             [
              0.8888888888888888,
              "#fdca26"
             ],
             [
              1,
              "#f0f921"
             ]
            ],
            "type": "contour"
           }
          ],
          "contourcarpet": [
           {
            "colorbar": {
             "outlinewidth": 0,
             "ticks": ""
            },
            "type": "contourcarpet"
           }
          ],
          "heatmap": [
           {
            "colorbar": {
             "outlinewidth": 0,
             "ticks": ""
            },
            "colorscale": [
             [
              0,
              "#0d0887"
             ],
             [
              0.1111111111111111,
              "#46039f"
             ],
             [
              0.2222222222222222,
              "#7201a8"
             ],
             [
              0.3333333333333333,
              "#9c179e"
             ],
             [
              0.4444444444444444,
              "#bd3786"
             ],
             [
              0.5555555555555556,
              "#d8576b"
             ],
             [
              0.6666666666666666,
              "#ed7953"
             ],
             [
              0.7777777777777778,
              "#fb9f3a"
             ],
             [
              0.8888888888888888,
              "#fdca26"
             ],
             [
              1,
              "#f0f921"
             ]
            ],
            "type": "heatmap"
           }
          ],
          "heatmapgl": [
           {
            "colorbar": {
             "outlinewidth": 0,
             "ticks": ""
            },
            "colorscale": [
             [
              0,
              "#0d0887"
             ],
             [
              0.1111111111111111,
              "#46039f"
             ],
             [
              0.2222222222222222,
              "#7201a8"
             ],
             [
              0.3333333333333333,
              "#9c179e"
             ],
             [
              0.4444444444444444,
              "#bd3786"
             ],
             [
              0.5555555555555556,
              "#d8576b"
             ],
             [
              0.6666666666666666,
              "#ed7953"
             ],
             [
              0.7777777777777778,
              "#fb9f3a"
             ],
             [
              0.8888888888888888,
              "#fdca26"
             ],
             [
              1,
              "#f0f921"
             ]
            ],
            "type": "heatmapgl"
           }
          ],
          "histogram": [
           {
            "marker": {
             "pattern": {
              "fillmode": "overlay",
              "size": 10,
              "solidity": 0.2
             }
            },
            "type": "histogram"
           }
          ],
          "histogram2d": [
           {
            "colorbar": {
             "outlinewidth": 0,
             "ticks": ""
            },
            "colorscale": [
             [
              0,
              "#0d0887"
             ],
             [
              0.1111111111111111,
              "#46039f"
             ],
             [
              0.2222222222222222,
              "#7201a8"
             ],
             [
              0.3333333333333333,
              "#9c179e"
             ],
             [
              0.4444444444444444,
              "#bd3786"
             ],
             [
              0.5555555555555556,
              "#d8576b"
             ],
             [
              0.6666666666666666,
              "#ed7953"
             ],
             [
              0.7777777777777778,
              "#fb9f3a"
             ],
             [
              0.8888888888888888,
              "#fdca26"
             ],
             [
              1,
              "#f0f921"
             ]
            ],
            "type": "histogram2d"
           }
          ],
          "histogram2dcontour": [
           {
            "colorbar": {
             "outlinewidth": 0,
             "ticks": ""
            },
            "colorscale": [
             [
              0,
              "#0d0887"
             ],
             [
              0.1111111111111111,
              "#46039f"
             ],
             [
              0.2222222222222222,
              "#7201a8"
             ],
             [
              0.3333333333333333,
              "#9c179e"
             ],
             [
              0.4444444444444444,
              "#bd3786"
             ],
             [
              0.5555555555555556,
              "#d8576b"
             ],
             [
              0.6666666666666666,
              "#ed7953"
             ],
             [
              0.7777777777777778,
              "#fb9f3a"
             ],
             [
              0.8888888888888888,
              "#fdca26"
             ],
             [
              1,
              "#f0f921"
             ]
            ],
            "type": "histogram2dcontour"
           }
          ],
          "mesh3d": [
           {
            "colorbar": {
             "outlinewidth": 0,
             "ticks": ""
            },
            "type": "mesh3d"
           }
          ],
          "parcoords": [
           {
            "line": {
             "colorbar": {
              "outlinewidth": 0,
              "ticks": ""
             }
            },
            "type": "parcoords"
           }
          ],
          "pie": [
           {
            "automargin": true,
            "type": "pie"
           }
          ],
          "scatter": [
           {
            "fillpattern": {
             "fillmode": "overlay",
             "size": 10,
             "solidity": 0.2
            },
            "type": "scatter"
           }
          ],
          "scatter3d": [
           {
            "line": {
             "colorbar": {
              "outlinewidth": 0,
              "ticks": ""
             }
            },
            "marker": {
             "colorbar": {
              "outlinewidth": 0,
              "ticks": ""
             }
            },
            "type": "scatter3d"
           }
          ],
          "scattercarpet": [
           {
            "marker": {
             "colorbar": {
              "outlinewidth": 0,
              "ticks": ""
             }
            },
            "type": "scattercarpet"
           }
          ],
          "scattergeo": [
           {
            "marker": {
             "colorbar": {
              "outlinewidth": 0,
              "ticks": ""
             }
            },
            "type": "scattergeo"
           }
          ],
          "scattergl": [
           {
            "marker": {
             "colorbar": {
              "outlinewidth": 0,
              "ticks": ""
             }
            },
            "type": "scattergl"
           }
          ],
          "scattermapbox": [
           {
            "marker": {
             "colorbar": {
              "outlinewidth": 0,
              "ticks": ""
             }
            },
            "type": "scattermapbox"
           }
          ],
          "scatterpolar": [
           {
            "marker": {
             "colorbar": {
              "outlinewidth": 0,
              "ticks": ""
             }
            },
            "type": "scatterpolar"
           }
          ],
          "scatterpolargl": [
           {
            "marker": {
             "colorbar": {
              "outlinewidth": 0,
              "ticks": ""
             }
            },
            "type": "scatterpolargl"
           }
          ],
          "scatterternary": [
           {
            "marker": {
             "colorbar": {
              "outlinewidth": 0,
              "ticks": ""
             }
            },
            "type": "scatterternary"
           }
          ],
          "surface": [
           {
            "colorbar": {
             "outlinewidth": 0,
             "ticks": ""
            },
            "colorscale": [
             [
              0,
              "#0d0887"
             ],
             [
              0.1111111111111111,
              "#46039f"
             ],
             [
              0.2222222222222222,
              "#7201a8"
             ],
             [
              0.3333333333333333,
              "#9c179e"
             ],
             [
              0.4444444444444444,
              "#bd3786"
             ],
             [
              0.5555555555555556,
              "#d8576b"
             ],
             [
              0.6666666666666666,
              "#ed7953"
             ],
             [
              0.7777777777777778,
              "#fb9f3a"
             ],
             [
              0.8888888888888888,
              "#fdca26"
             ],
             [
              1,
              "#f0f921"
             ]
            ],
            "type": "surface"
           }
          ],
          "table": [
           {
            "cells": {
             "fill": {
              "color": "#EBF0F8"
             },
             "line": {
              "color": "white"
             }
            },
            "header": {
             "fill": {
              "color": "#C8D4E3"
             },
             "line": {
              "color": "white"
             }
            },
            "type": "table"
           }
          ]
         },
         "layout": {
          "annotationdefaults": {
           "arrowcolor": "#2a3f5f",
           "arrowhead": 0,
           "arrowwidth": 1
          },
          "autotypenumbers": "strict",
          "coloraxis": {
           "colorbar": {
            "outlinewidth": 0,
            "ticks": ""
           }
          },
          "colorscale": {
           "diverging": [
            [
             0,
             "#8e0152"
            ],
            [
             0.1,
             "#c51b7d"
            ],
            [
             0.2,
             "#de77ae"
            ],
            [
             0.3,
             "#f1b6da"
            ],
            [
             0.4,
             "#fde0ef"
            ],
            [
             0.5,
             "#f7f7f7"
            ],
            [
             0.6,
             "#e6f5d0"
            ],
            [
             0.7,
             "#b8e186"
            ],
            [
             0.8,
             "#7fbc41"
            ],
            [
             0.9,
             "#4d9221"
            ],
            [
             1,
             "#276419"
            ]
           ],
           "sequential": [
            [
             0,
             "#0d0887"
            ],
            [
             0.1111111111111111,
             "#46039f"
            ],
            [
             0.2222222222222222,
             "#7201a8"
            ],
            [
             0.3333333333333333,
             "#9c179e"
            ],
            [
             0.4444444444444444,
             "#bd3786"
            ],
            [
             0.5555555555555556,
             "#d8576b"
            ],
            [
             0.6666666666666666,
             "#ed7953"
            ],
            [
             0.7777777777777778,
             "#fb9f3a"
            ],
            [
             0.8888888888888888,
             "#fdca26"
            ],
            [
             1,
             "#f0f921"
            ]
           ],
           "sequentialminus": [
            [
             0,
             "#0d0887"
            ],
            [
             0.1111111111111111,
             "#46039f"
            ],
            [
             0.2222222222222222,
             "#7201a8"
            ],
            [
             0.3333333333333333,
             "#9c179e"
            ],
            [
             0.4444444444444444,
             "#bd3786"
            ],
            [
             0.5555555555555556,
             "#d8576b"
            ],
            [
             0.6666666666666666,
             "#ed7953"
            ],
            [
             0.7777777777777778,
             "#fb9f3a"
            ],
            [
             0.8888888888888888,
             "#fdca26"
            ],
            [
             1,
             "#f0f921"
            ]
           ]
          },
          "colorway": [
           "#636efa",
           "#EF553B",
           "#00cc96",
           "#ab63fa",
           "#FFA15A",
           "#19d3f3",
           "#FF6692",
           "#B6E880",
           "#FF97FF",
           "#FECB52"
          ],
          "font": {
           "color": "#2a3f5f"
          },
          "geo": {
           "bgcolor": "white",
           "lakecolor": "white",
           "landcolor": "#E5ECF6",
           "showlakes": true,
           "showland": true,
           "subunitcolor": "white"
          },
          "hoverlabel": {
           "align": "left"
          },
          "hovermode": "closest",
          "mapbox": {
           "style": "light"
          },
          "paper_bgcolor": "white",
          "plot_bgcolor": "#E5ECF6",
          "polar": {
           "angularaxis": {
            "gridcolor": "white",
            "linecolor": "white",
            "ticks": ""
           },
           "bgcolor": "#E5ECF6",
           "radialaxis": {
            "gridcolor": "white",
            "linecolor": "white",
            "ticks": ""
           }
          },
          "scene": {
           "xaxis": {
            "backgroundcolor": "#E5ECF6",
            "gridcolor": "white",
            "gridwidth": 2,
            "linecolor": "white",
            "showbackground": true,
            "ticks": "",
            "zerolinecolor": "white"
           },
           "yaxis": {
            "backgroundcolor": "#E5ECF6",
            "gridcolor": "white",
            "gridwidth": 2,
            "linecolor": "white",
            "showbackground": true,
            "ticks": "",
            "zerolinecolor": "white"
           },
           "zaxis": {
            "backgroundcolor": "#E5ECF6",
            "gridcolor": "white",
            "gridwidth": 2,
            "linecolor": "white",
            "showbackground": true,
            "ticks": "",
            "zerolinecolor": "white"
           }
          },
          "shapedefaults": {
           "line": {
            "color": "#2a3f5f"
           }
          },
          "ternary": {
           "aaxis": {
            "gridcolor": "white",
            "linecolor": "white",
            "ticks": ""
           },
           "baxis": {
            "gridcolor": "white",
            "linecolor": "white",
            "ticks": ""
           },
           "bgcolor": "#E5ECF6",
           "caxis": {
            "gridcolor": "white",
            "linecolor": "white",
            "ticks": ""
           }
          },
          "title": {
           "x": 0.05
          },
          "xaxis": {
           "automargin": true,
           "gridcolor": "white",
           "linecolor": "white",
           "ticks": "",
           "title": {
            "standoff": 15
           },
           "zerolinecolor": "white",
           "zerolinewidth": 2
          },
          "yaxis": {
           "automargin": true,
           "gridcolor": "white",
           "linecolor": "white",
           "ticks": "",
           "title": {
            "standoff": 15
           },
           "zerolinecolor": "white",
           "zerolinewidth": 2
          }
         }
        },
        "width": 800
       }
      },
      "text/html": [
       "<div>                            <div id=\"514d47e5-2b4c-4c68-bf59-4ec30c7f6187\" class=\"plotly-graph-div\" style=\"height:800px; width:800px;\"></div>            <script type=\"text/javascript\">                require([\"plotly\"], function(Plotly) {                    window.PLOTLYENV=window.PLOTLYENV || {};                                    if (document.getElementById(\"514d47e5-2b4c-4c68-bf59-4ec30c7f6187\")) {                    Plotly.newPlot(                        \"514d47e5-2b4c-4c68-bf59-4ec30c7f6187\",                        [{\"customdata\":[[87.0,736.92,723.96,135.72,1134.0],[89.0,1429.16,1062.0,149.34,1218.6],[91.0,1637.16,923.4,142.5,1221.96],[88.0,1569.84,966.48,151.77,1302.24]],\"hovertemplate\":\"<b>%{hovertext}</b><br><br>State=OH<br>Total Cost=%{marker.size}<br>X.1=%{lat}<br>X.2=%{lon}<br>Avg. Summer Temp=%{customdata[0]}<br>Flights=%{customdata[1]}<br>Hotels=%{customdata[2]}<br>Car=%{customdata[3]}<br>Meals=%{customdata[4]}<extra></extra>\",\"hovertext\":[\"Toledo\",\"Cleveland\",\"Columbus\",\"Cincinnati\"],\"lat\":[41.6529143,41.4996574,39.9622601,39.1014537],\"legendgroup\":\"OH\",\"lon\":[-83.5378173,-81.6936772,-83.0007065,-84.5124602],\"marker\":{\"color\":\"#636efa\",\"size\":[2730.6,3859.1,3925.02,3990.33],\"sizemode\":\"area\",\"sizeref\":9.975825},\"mode\":\"markers\",\"name\":\"OH\",\"showlegend\":true,\"subplot\":\"mapbox\",\"type\":\"scattermapbox\"},{\"customdata\":[[82.0,1181.28,764.4,154.83,1171.08],[72.0,1713.6,666.24,134.7,1177.32]],\"hovertemplate\":\"<b>%{hovertext}</b><br><br>State=OK<br>Total Cost=%{marker.size}<br>X.1=%{lat}<br>X.2=%{lon}<br>Avg. Summer Temp=%{customdata[0]}<br>Flights=%{customdata[1]}<br>Hotels=%{customdata[2]}<br>Car=%{customdata[3]}<br>Meals=%{customdata[4]}<extra></extra>\",\"hovertext\":[\"Oklahoma City\",\"Tulsa\"],\"lat\":[35.4729886,36.1563122],\"legendgroup\":\"OK\",\"lon\":[-97.5170536,-95.9927516],\"marker\":{\"color\":\"#EF553B\",\"size\":[3271.59,3691.86],\"sizemode\":\"area\",\"sizeref\":9.975825},\"mode\":\"markers\",\"name\":\"OK\",\"showlegend\":true,\"subplot\":\"mapbox\",\"type\":\"scattermapbox\"},{\"customdata\":[[79.0,1089.56,1168.32,126.12,1250.16],[86.0,1369.12,1199.1,133.26,1234.68]],\"hovertemplate\":\"<b>%{hovertext}</b><br><br>State=FL<br>Total Cost=%{marker.size}<br>X.1=%{lat}<br>X.2=%{lon}<br>Avg. Summer Temp=%{customdata[0]}<br>Flights=%{customdata[1]}<br>Hotels=%{customdata[2]}<br>Car=%{customdata[3]}<br>Meals=%{customdata[4]}<extra></extra>\",\"hovertext\":[\"Orlando\",\"Tampa\"],\"lat\":[28.5421109,27.9477595],\"legendgroup\":\"FL\",\"lon\":[-81.3790304,-82.458444],\"marker\":{\"color\":\"#00cc96\",\"size\":[3634.16,3936.16],\"sizemode\":\"area\",\"sizeref\":9.975825},\"mode\":\"markers\",\"name\":\"FL\",\"showlegend\":true,\"subplot\":\"mapbox\",\"type\":\"scattermapbox\"},{\"customdata\":[[75.0,1352.12,966.78,148.17,1202.16]],\"hovertemplate\":\"<b>%{hovertext}</b><br><br>State=NY<br>Total Cost=%{marker.size}<br>X.1=%{lat}<br>X.2=%{lon}<br>Avg. Summer Temp=%{customdata[0]}<br>Flights=%{customdata[1]}<br>Hotels=%{customdata[2]}<br>Car=%{customdata[3]}<br>Meals=%{customdata[4]}<extra></extra>\",\"hovertext\":[\"Buffalo\"],\"lat\":[42.8867166],\"legendgroup\":\"NY\",\"lon\":[-78.8783922],\"marker\":{\"color\":\"#ab63fa\",\"size\":[3669.23],\"sizemode\":\"area\",\"sizeref\":9.975825},\"mode\":\"markers\",\"name\":\"NY\",\"showlegend\":true,\"subplot\":\"mapbox\",\"type\":\"scattermapbox\"},{\"customdata\":[[74.0,1764.64,619.56,125.61,1162.92]],\"hovertemplate\":\"<b>%{hovertext}</b><br><br>State=KS<br>Total Cost=%{marker.size}<br>X.1=%{lat}<br>X.2=%{lon}<br>Avg. Summer Temp=%{customdata[0]}<br>Flights=%{customdata[1]}<br>Hotels=%{customdata[2]}<br>Car=%{customdata[3]}<br>Meals=%{customdata[4]}<extra></extra>\",\"hovertext\":[\"Wichita\"],\"lat\":[37.6922361],\"legendgroup\":\"KS\",\"lon\":[-97.3375448],\"marker\":{\"color\":\"#FFA15A\",\"size\":[3672.73],\"sizemode\":\"area\",\"sizeref\":9.975825},\"mode\":\"markers\",\"name\":\"KS\",\"showlegend\":true,\"subplot\":\"mapbox\",\"type\":\"scattermapbox\"},{\"customdata\":[[91.0,1684.92,684.0,144.78,1174.56]],\"hovertemplate\":\"<b>%{hovertext}</b><br><br>State=IN<br>Total Cost=%{marker.size}<br>X.1=%{lat}<br>X.2=%{lon}<br>Avg. Summer Temp=%{customdata[0]}<br>Flights=%{customdata[1]}<br>Hotels=%{customdata[2]}<br>Car=%{customdata[3]}<br>Meals=%{customdata[4]}<extra></extra>\",\"hovertext\":[\"Indianapolis\"],\"lat\":[39.7683331],\"legendgroup\":\"IN\",\"lon\":[-86.1583502],\"marker\":{\"color\":\"#19d3f3\",\"size\":[3688.26],\"sizemode\":\"area\",\"sizeref\":9.975825},\"mode\":\"markers\",\"name\":\"IN\",\"showlegend\":true,\"subplot\":\"mapbox\",\"type\":\"scattermapbox\"},{\"customdata\":[[91.0,1600.2,783.48,141.09,1245.6]],\"hovertemplate\":\"<b>%{hovertext}</b><br><br>State=VA<br>Total Cost=%{marker.size}<br>X.1=%{lat}<br>X.2=%{lon}<br>Avg. Summer Temp=%{customdata[0]}<br>Flights=%{customdata[1]}<br>Hotels=%{customdata[2]}<br>Car=%{customdata[3]}<br>Meals=%{customdata[4]}<extra></extra>\",\"hovertext\":[\"Richmond\"],\"lat\":[37.5385087],\"legendgroup\":\"VA\",\"lon\":[-77.43428],\"marker\":{\"color\":\"#FF6692\",\"size\":[3770.37],\"sizemode\":\"area\",\"sizeref\":9.975825},\"mode\":\"markers\",\"name\":\"VA\",\"showlegend\":true,\"subplot\":\"mapbox\",\"type\":\"scattermapbox\"},{\"customdata\":[[81.0,1560.6,858.24,142.08,1211.64],[89.0,1545.32,978.36,143.37,1274.52]],\"hovertemplate\":\"<b>%{hovertext}</b><br><br>State=MO<br>Total Cost=%{marker.size}<br>X.1=%{lat}<br>X.2=%{lon}<br>Avg. Summer Temp=%{customdata[0]}<br>Flights=%{customdata[1]}<br>Hotels=%{customdata[2]}<br>Car=%{customdata[3]}<br>Meals=%{customdata[4]}<extra></extra>\",\"hovertext\":[\"Kansas City\",\"St. Louis\"],\"lat\":[39.100105,38.6280278],\"legendgroup\":\"MO\",\"lon\":[-94.5781416,-90.1910154],\"marker\":{\"color\":\"#B6E880\",\"size\":[3772.56,3941.57],\"sizemode\":\"area\",\"sizeref\":9.975825},\"mode\":\"markers\",\"name\":\"MO\",\"showlegend\":true,\"subplot\":\"mapbox\",\"type\":\"scattermapbox\"},{\"customdata\":[[85.0,1582.04,824.4,157.59,1226.28]],\"hovertemplate\":\"<b>%{hovertext}</b><br><br>State=PA<br>Total Cost=%{marker.size}<br>X.1=%{lat}<br>X.2=%{lon}<br>Avg. Summer Temp=%{customdata[0]}<br>Flights=%{customdata[1]}<br>Hotels=%{customdata[2]}<br>Car=%{customdata[3]}<br>Meals=%{customdata[4]}<extra></extra>\",\"hovertext\":[\"Pittsburgh\"],\"lat\":[40.4416941],\"legendgroup\":\"PA\",\"lon\":[-79.9900861],\"marker\":{\"color\":\"#FF97FF\",\"size\":[3790.31],\"sizemode\":\"area\",\"sizeref\":9.975825},\"mode\":\"markers\",\"name\":\"PA\",\"showlegend\":true,\"subplot\":\"mapbox\",\"type\":\"scattermapbox\"},{\"customdata\":[[82.0,1706.0,801.96,125.76,1218.36],[77.0,1667.64,950.22,137.85,1109.76]],\"hovertemplate\":\"<b>%{hovertext}</b><br><br>State=NC<br>Total Cost=%{marker.size}<br>X.1=%{lat}<br>X.2=%{lon}<br>Avg. Summer Temp=%{customdata[0]}<br>Flights=%{customdata[1]}<br>Hotels=%{customdata[2]}<br>Car=%{customdata[3]}<br>Meals=%{customdata[4]}<extra></extra>\",\"hovertext\":[\"Greensboro\",\"Raleigh\"],\"lat\":[36.0726355,35.7803977],\"legendgroup\":\"NC\",\"lon\":[-79.7919754,-78.6390989],\"marker\":{\"color\":\"#FECB52\",\"size\":[3852.08,3865.47],\"sizemode\":\"area\",\"sizeref\":9.975825},\"mode\":\"markers\",\"name\":\"NC\",\"showlegend\":true,\"subplot\":\"mapbox\",\"type\":\"scattermapbox\"},{\"customdata\":[[93.0,2012.6,657.72,148.38,1036.92],[91.0,1615.76,842.4,151.71,1335.36]],\"hovertemplate\":\"<b>%{hovertext}</b><br><br>State=TX<br>Total Cost=%{marker.size}<br>X.1=%{lat}<br>X.2=%{lon}<br>Avg. Summer Temp=%{customdata[0]}<br>Flights=%{customdata[1]}<br>Hotels=%{customdata[2]}<br>Car=%{customdata[3]}<br>Meals=%{customdata[4]}<extra></extra>\",\"hovertext\":[\"Corpus Christi\",\"Houston\"],\"lat\":[27.7635302,29.7589382],\"legendgroup\":\"TX\",\"lon\":[-97.4033191,-95.3676974],\"marker\":{\"color\":\"#636efa\",\"size\":[3855.62,3945.23],\"sizemode\":\"area\",\"sizeref\":9.975825},\"mode\":\"markers\",\"name\":\"TX\",\"showlegend\":true,\"subplot\":\"mapbox\",\"type\":\"scattermapbox\"},{\"customdata\":[[91.0,1397.88,1136.52,155.73,1169.04]],\"hovertemplate\":\"<b>%{hovertext}</b><br><br>State=TN<br>Total Cost=%{marker.size}<br>X.1=%{lat}<br>X.2=%{lon}<br>Avg. Summer Temp=%{customdata[0]}<br>Flights=%{customdata[1]}<br>Hotels=%{customdata[2]}<br>Car=%{customdata[3]}<br>Meals=%{customdata[4]}<extra></extra>\",\"hovertext\":[\"Nashville\"],\"lat\":[36.1622767],\"legendgroup\":\"TN\",\"lon\":[-86.7742984],\"marker\":{\"color\":\"#EF553B\",\"size\":[3859.17],\"sizemode\":\"area\",\"sizeref\":9.975825},\"mode\":\"markers\",\"name\":\"TN\",\"showlegend\":true,\"subplot\":\"mapbox\",\"type\":\"scattermapbox\"},{\"customdata\":[[81.0,1730.88,839.88,149.91,1206.36]],\"hovertemplate\":\"<b>%{hovertext}</b><br><br>State=WA<br>Total Cost=%{marker.size}<br>X.1=%{lat}<br>X.2=%{lon}<br>Avg. Summer Temp=%{customdata[0]}<br>Flights=%{customdata[1]}<br>Hotels=%{customdata[2]}<br>Car=%{customdata[3]}<br>Meals=%{customdata[4]}<extra></extra>\",\"hovertext\":[\"Spokane\"],\"lat\":[47.6571934],\"legendgroup\":\"WA\",\"lon\":[-117.42351],\"marker\":{\"color\":\"#00cc96\",\"size\":[3927.03],\"sizemode\":\"area\",\"sizeref\":9.975825},\"mode\":\"markers\",\"name\":\"WA\",\"showlegend\":true,\"subplot\":\"mapbox\",\"type\":\"scattermapbox\"},{\"customdata\":[[82.0,1425.28,1108.74,134.49,1275.6]],\"hovertemplate\":\"<b>%{hovertext}</b><br><br>State=MD<br>Total Cost=%{marker.size}<br>X.1=%{lat}<br>X.2=%{lon}<br>Avg. Summer Temp=%{customdata[0]}<br>Flights=%{customdata[1]}<br>Hotels=%{customdata[2]}<br>Car=%{customdata[3]}<br>Meals=%{customdata[4]}<extra></extra>\",\"hovertext\":[\"Baltimore\"],\"lat\":[39.2908816],\"legendgroup\":\"MD\",\"lon\":[-76.610759],\"marker\":{\"color\":\"#ab63fa\",\"size\":[3944.11],\"sizemode\":\"area\",\"sizeref\":9.975825},\"mode\":\"markers\",\"name\":\"MD\",\"showlegend\":true,\"subplot\":\"mapbox\",\"type\":\"scattermapbox\"},{\"customdata\":[[86.0,1502.84,952.2,131.49,1374.6]],\"hovertemplate\":\"<b>%{hovertext}</b><br><br>State=CA<br>Total Cost=%{marker.size}<br>X.1=%{lat}<br>X.2=%{lon}<br>Avg. Summer Temp=%{customdata[0]}<br>Flights=%{customdata[1]}<br>Hotels=%{customdata[2]}<br>Car=%{customdata[3]}<br>Meals=%{customdata[4]}<extra></extra>\",\"hovertext\":[\"Sacramento\"],\"lat\":[38.5810606],\"legendgroup\":\"CA\",\"lon\":[-121.493895],\"marker\":{\"color\":\"#FFA15A\",\"size\":[3961.13],\"sizemode\":\"area\",\"sizeref\":9.975825},\"mode\":\"markers\",\"name\":\"CA\",\"showlegend\":true,\"subplot\":\"mapbox\",\"type\":\"scattermapbox\"},{\"customdata\":[[92.0,1384.12,1054.26,164.67,1359.12]],\"hovertemplate\":\"<b>%{hovertext}</b><br><br>State=CO<br>Total Cost=%{marker.size}<br>X.1=%{lat}<br>X.2=%{lon}<br>Avg. Summer Temp=%{customdata[0]}<br>Flights=%{customdata[1]}<br>Hotels=%{customdata[2]}<br>Car=%{customdata[3]}<br>Meals=%{customdata[4]}<extra></extra>\",\"hovertext\":[\"Denver\"],\"lat\":[39.7392364],\"legendgroup\":\"CO\",\"lon\":[-104.984862],\"marker\":{\"color\":\"#19d3f3\",\"size\":[3962.17],\"sizemode\":\"area\",\"sizeref\":9.975825},\"mode\":\"markers\",\"name\":\"CO\",\"showlegend\":true,\"subplot\":\"mapbox\",\"type\":\"scattermapbox\"},{\"customdata\":[[87.0,1650.04,843.12,161.94,1332.96]],\"hovertemplate\":\"<b>%{hovertext}</b><br><br>State=WI<br>Total Cost=%{marker.size}<br>X.1=%{lat}<br>X.2=%{lon}<br>Avg. Summer Temp=%{customdata[0]}<br>Flights=%{customdata[1]}<br>Hotels=%{customdata[2]}<br>Car=%{customdata[3]}<br>Meals=%{customdata[4]}<extra></extra>\",\"hovertext\":[\"Milwaukee\"],\"lat\":[43.0349931],\"legendgroup\":\"WI\",\"lon\":[-87.922497],\"marker\":{\"color\":\"#FF6692\",\"size\":[3988.06],\"sizemode\":\"area\",\"sizeref\":9.975825},\"mode\":\"markers\",\"name\":\"WI\",\"showlegend\":true,\"subplot\":\"mapbox\",\"type\":\"scattermapbox\"}],                        {\"template\":{\"data\":{\"histogram2dcontour\":[{\"type\":\"histogram2dcontour\",\"colorbar\":{\"outlinewidth\":0,\"ticks\":\"\"},\"colorscale\":[[0.0,\"#0d0887\"],[0.1111111111111111,\"#46039f\"],[0.2222222222222222,\"#7201a8\"],[0.3333333333333333,\"#9c179e\"],[0.4444444444444444,\"#bd3786\"],[0.5555555555555556,\"#d8576b\"],[0.6666666666666666,\"#ed7953\"],[0.7777777777777778,\"#fb9f3a\"],[0.8888888888888888,\"#fdca26\"],[1.0,\"#f0f921\"]]}],\"choropleth\":[{\"type\":\"choropleth\",\"colorbar\":{\"outlinewidth\":0,\"ticks\":\"\"}}],\"histogram2d\":[{\"type\":\"histogram2d\",\"colorbar\":{\"outlinewidth\":0,\"ticks\":\"\"},\"colorscale\":[[0.0,\"#0d0887\"],[0.1111111111111111,\"#46039f\"],[0.2222222222222222,\"#7201a8\"],[0.3333333333333333,\"#9c179e\"],[0.4444444444444444,\"#bd3786\"],[0.5555555555555556,\"#d8576b\"],[0.6666666666666666,\"#ed7953\"],[0.7777777777777778,\"#fb9f3a\"],[0.8888888888888888,\"#fdca26\"],[1.0,\"#f0f921\"]]}],\"heatmap\":[{\"type\":\"heatmap\",\"colorbar\":{\"outlinewidth\":0,\"ticks\":\"\"},\"colorscale\":[[0.0,\"#0d0887\"],[0.1111111111111111,\"#46039f\"],[0.2222222222222222,\"#7201a8\"],[0.3333333333333333,\"#9c179e\"],[0.4444444444444444,\"#bd3786\"],[0.5555555555555556,\"#d8576b\"],[0.6666666666666666,\"#ed7953\"],[0.7777777777777778,\"#fb9f3a\"],[0.8888888888888888,\"#fdca26\"],[1.0,\"#f0f921\"]]}],\"heatmapgl\":[{\"type\":\"heatmapgl\",\"colorbar\":{\"outlinewidth\":0,\"ticks\":\"\"},\"colorscale\":[[0.0,\"#0d0887\"],[0.1111111111111111,\"#46039f\"],[0.2222222222222222,\"#7201a8\"],[0.3333333333333333,\"#9c179e\"],[0.4444444444444444,\"#bd3786\"],[0.5555555555555556,\"#d8576b\"],[0.6666666666666666,\"#ed7953\"],[0.7777777777777778,\"#fb9f3a\"],[0.8888888888888888,\"#fdca26\"],[1.0,\"#f0f921\"]]}],\"contourcarpet\":[{\"type\":\"contourcarpet\",\"colorbar\":{\"outlinewidth\":0,\"ticks\":\"\"}}],\"contour\":[{\"type\":\"contour\",\"colorbar\":{\"outlinewidth\":0,\"ticks\":\"\"},\"colorscale\":[[0.0,\"#0d0887\"],[0.1111111111111111,\"#46039f\"],[0.2222222222222222,\"#7201a8\"],[0.3333333333333333,\"#9c179e\"],[0.4444444444444444,\"#bd3786\"],[0.5555555555555556,\"#d8576b\"],[0.6666666666666666,\"#ed7953\"],[0.7777777777777778,\"#fb9f3a\"],[0.8888888888888888,\"#fdca26\"],[1.0,\"#f0f921\"]]}],\"surface\":[{\"type\":\"surface\",\"colorbar\":{\"outlinewidth\":0,\"ticks\":\"\"},\"colorscale\":[[0.0,\"#0d0887\"],[0.1111111111111111,\"#46039f\"],[0.2222222222222222,\"#7201a8\"],[0.3333333333333333,\"#9c179e\"],[0.4444444444444444,\"#bd3786\"],[0.5555555555555556,\"#d8576b\"],[0.6666666666666666,\"#ed7953\"],[0.7777777777777778,\"#fb9f3a\"],[0.8888888888888888,\"#fdca26\"],[1.0,\"#f0f921\"]]}],\"mesh3d\":[{\"type\":\"mesh3d\",\"colorbar\":{\"outlinewidth\":0,\"ticks\":\"\"}}],\"scatter\":[{\"fillpattern\":{\"fillmode\":\"overlay\",\"size\":10,\"solidity\":0.2},\"type\":\"scatter\"}],\"parcoords\":[{\"type\":\"parcoords\",\"line\":{\"colorbar\":{\"outlinewidth\":0,\"ticks\":\"\"}}}],\"scatterpolargl\":[{\"type\":\"scatterpolargl\",\"marker\":{\"colorbar\":{\"outlinewidth\":0,\"ticks\":\"\"}}}],\"bar\":[{\"error_x\":{\"color\":\"#2a3f5f\"},\"error_y\":{\"color\":\"#2a3f5f\"},\"marker\":{\"line\":{\"color\":\"#E5ECF6\",\"width\":0.5},\"pattern\":{\"fillmode\":\"overlay\",\"size\":10,\"solidity\":0.2}},\"type\":\"bar\"}],\"scattergeo\":[{\"type\":\"scattergeo\",\"marker\":{\"colorbar\":{\"outlinewidth\":0,\"ticks\":\"\"}}}],\"scatterpolar\":[{\"type\":\"scatterpolar\",\"marker\":{\"colorbar\":{\"outlinewidth\":0,\"ticks\":\"\"}}}],\"histogram\":[{\"marker\":{\"pattern\":{\"fillmode\":\"overlay\",\"size\":10,\"solidity\":0.2}},\"type\":\"histogram\"}],\"scattergl\":[{\"type\":\"scattergl\",\"marker\":{\"colorbar\":{\"outlinewidth\":0,\"ticks\":\"\"}}}],\"scatter3d\":[{\"type\":\"scatter3d\",\"line\":{\"colorbar\":{\"outlinewidth\":0,\"ticks\":\"\"}},\"marker\":{\"colorbar\":{\"outlinewidth\":0,\"ticks\":\"\"}}}],\"scattermapbox\":[{\"type\":\"scattermapbox\",\"marker\":{\"colorbar\":{\"outlinewidth\":0,\"ticks\":\"\"}}}],\"scatterternary\":[{\"type\":\"scatterternary\",\"marker\":{\"colorbar\":{\"outlinewidth\":0,\"ticks\":\"\"}}}],\"scattercarpet\":[{\"type\":\"scattercarpet\",\"marker\":{\"colorbar\":{\"outlinewidth\":0,\"ticks\":\"\"}}}],\"carpet\":[{\"aaxis\":{\"endlinecolor\":\"#2a3f5f\",\"gridcolor\":\"white\",\"linecolor\":\"white\",\"minorgridcolor\":\"white\",\"startlinecolor\":\"#2a3f5f\"},\"baxis\":{\"endlinecolor\":\"#2a3f5f\",\"gridcolor\":\"white\",\"linecolor\":\"white\",\"minorgridcolor\":\"white\",\"startlinecolor\":\"#2a3f5f\"},\"type\":\"carpet\"}],\"table\":[{\"cells\":{\"fill\":{\"color\":\"#EBF0F8\"},\"line\":{\"color\":\"white\"}},\"header\":{\"fill\":{\"color\":\"#C8D4E3\"},\"line\":{\"color\":\"white\"}},\"type\":\"table\"}],\"barpolar\":[{\"marker\":{\"line\":{\"color\":\"#E5ECF6\",\"width\":0.5},\"pattern\":{\"fillmode\":\"overlay\",\"size\":10,\"solidity\":0.2}},\"type\":\"barpolar\"}],\"pie\":[{\"automargin\":true,\"type\":\"pie\"}]},\"layout\":{\"autotypenumbers\":\"strict\",\"colorway\":[\"#636efa\",\"#EF553B\",\"#00cc96\",\"#ab63fa\",\"#FFA15A\",\"#19d3f3\",\"#FF6692\",\"#B6E880\",\"#FF97FF\",\"#FECB52\"],\"font\":{\"color\":\"#2a3f5f\"},\"hovermode\":\"closest\",\"hoverlabel\":{\"align\":\"left\"},\"paper_bgcolor\":\"white\",\"plot_bgcolor\":\"#E5ECF6\",\"polar\":{\"bgcolor\":\"#E5ECF6\",\"angularaxis\":{\"gridcolor\":\"white\",\"linecolor\":\"white\",\"ticks\":\"\"},\"radialaxis\":{\"gridcolor\":\"white\",\"linecolor\":\"white\",\"ticks\":\"\"}},\"ternary\":{\"bgcolor\":\"#E5ECF6\",\"aaxis\":{\"gridcolor\":\"white\",\"linecolor\":\"white\",\"ticks\":\"\"},\"baxis\":{\"gridcolor\":\"white\",\"linecolor\":\"white\",\"ticks\":\"\"},\"caxis\":{\"gridcolor\":\"white\",\"linecolor\":\"white\",\"ticks\":\"\"}},\"coloraxis\":{\"colorbar\":{\"outlinewidth\":0,\"ticks\":\"\"}},\"colorscale\":{\"sequential\":[[0.0,\"#0d0887\"],[0.1111111111111111,\"#46039f\"],[0.2222222222222222,\"#7201a8\"],[0.3333333333333333,\"#9c179e\"],[0.4444444444444444,\"#bd3786\"],[0.5555555555555556,\"#d8576b\"],[0.6666666666666666,\"#ed7953\"],[0.7777777777777778,\"#fb9f3a\"],[0.8888888888888888,\"#fdca26\"],[1.0,\"#f0f921\"]],\"sequentialminus\":[[0.0,\"#0d0887\"],[0.1111111111111111,\"#46039f\"],[0.2222222222222222,\"#7201a8\"],[0.3333333333333333,\"#9c179e\"],[0.4444444444444444,\"#bd3786\"],[0.5555555555555556,\"#d8576b\"],[0.6666666666666666,\"#ed7953\"],[0.7777777777777778,\"#fb9f3a\"],[0.8888888888888888,\"#fdca26\"],[1.0,\"#f0f921\"]],\"diverging\":[[0,\"#8e0152\"],[0.1,\"#c51b7d\"],[0.2,\"#de77ae\"],[0.3,\"#f1b6da\"],[0.4,\"#fde0ef\"],[0.5,\"#f7f7f7\"],[0.6,\"#e6f5d0\"],[0.7,\"#b8e186\"],[0.8,\"#7fbc41\"],[0.9,\"#4d9221\"],[1,\"#276419\"]]},\"xaxis\":{\"gridcolor\":\"white\",\"linecolor\":\"white\",\"ticks\":\"\",\"title\":{\"standoff\":15},\"zerolinecolor\":\"white\",\"automargin\":true,\"zerolinewidth\":2},\"yaxis\":{\"gridcolor\":\"white\",\"linecolor\":\"white\",\"ticks\":\"\",\"title\":{\"standoff\":15},\"zerolinecolor\":\"white\",\"automargin\":true,\"zerolinewidth\":2},\"scene\":{\"xaxis\":{\"backgroundcolor\":\"#E5ECF6\",\"gridcolor\":\"white\",\"linecolor\":\"white\",\"showbackground\":true,\"ticks\":\"\",\"zerolinecolor\":\"white\",\"gridwidth\":2},\"yaxis\":{\"backgroundcolor\":\"#E5ECF6\",\"gridcolor\":\"white\",\"linecolor\":\"white\",\"showbackground\":true,\"ticks\":\"\",\"zerolinecolor\":\"white\",\"gridwidth\":2},\"zaxis\":{\"backgroundcolor\":\"#E5ECF6\",\"gridcolor\":\"white\",\"linecolor\":\"white\",\"showbackground\":true,\"ticks\":\"\",\"zerolinecolor\":\"white\",\"gridwidth\":2}},\"shapedefaults\":{\"line\":{\"color\":\"#2a3f5f\"}},\"annotationdefaults\":{\"arrowcolor\":\"#2a3f5f\",\"arrowhead\":0,\"arrowwidth\":1},\"geo\":{\"bgcolor\":\"white\",\"landcolor\":\"#E5ECF6\",\"subunitcolor\":\"white\",\"showland\":true,\"showlakes\":true,\"lakecolor\":\"white\"},\"title\":{\"x\":0.05},\"mapbox\":{\"style\":\"light\"}}},\"mapbox\":{\"domain\":{\"x\":[0.0,1.0],\"y\":[0.0,1.0]},\"center\":{\"lat\":37.60928886,\"lon\":-89.64286653199999},\"zoom\":3,\"style\":\"open-street-map\"},\"legend\":{\"title\":{\"text\":\"State\"},\"tracegroupgap\":0,\"itemsizing\":\"constant\"},\"margin\":{\"t\":0,\"r\":0,\"l\":0,\"b\":0},\"height\":800,\"width\":800},                        {\"responsive\": true}                    ).then(function(){\n",
       "                            \n",
       "var gd = document.getElementById('514d47e5-2b4c-4c68-bf59-4ec30c7f6187');\n",
       "var x = new MutationObserver(function (mutations, observer) {{\n",
       "        var display = window.getComputedStyle(gd).display;\n",
       "        if (!display || display === 'none') {{\n",
       "            console.log([gd, 'removed!']);\n",
       "            Plotly.purge(gd);\n",
       "            observer.disconnect();\n",
       "        }}\n",
       "}});\n",
       "\n",
       "// Listen for the removal of the full notebook cells\n",
       "var notebookContainer = gd.closest('#notebook-container');\n",
       "if (notebookContainer) {{\n",
       "    x.observe(notebookContainer, {childList: true});\n",
       "}}\n",
       "\n",
       "// Listen for the clearing of the current output cell\n",
       "var outputEl = gd.closest('.output');\n",
       "if (outputEl) {{\n",
       "    x.observe(outputEl, {childList: true});\n",
       "}}\n",
       "\n",
       "                        })                };                });            </script>        </div>"
      ]
     },
     "metadata": {},
     "output_type": "display_data"
    }
   ],
   "source": [
    "df.dropna(\n",
    "    axis=0,\n",
    "    how='any',\n",
    "    subset=None,\n",
    "    inplace=True\n",
    ")\n",
    "\n",
    "color_scale = [(0, 'orange'), (1,'red')]\n",
    "fig = px.scatter_mapbox(df, \n",
    "                        lat=\"X.1\", \n",
    "                        lon=\"X.2\", \n",
    "                        hover_name=\"City\", \n",
    "                        hover_data=[\"Avg. Summer Temp\",\"Flights\",\"Hotels\",\"Car\",\"Meals\"],\n",
    "                        color=\"State\",\n",
    "                        color_continuous_scale=color_scale,\n",
    "                        size=\"Total Cost\",\n",
    "                        zoom=3, \n",
    "                        height=800,\n",
    "                        width=800)\n",
    "\n",
    "fig.update_layout(mapbox_style=\"open-street-map\")\n",
    "fig.update_layout(margin={\"r\":0,\"t\":0,\"l\":0,\"b\":0})\n",
    "\n",
    "fig.show()"
   ]
  },
  {
   "cell_type": "code",
   "execution_count": 122,
   "id": "f2232346",
   "metadata": {},
   "outputs": [
    {
     "name": "stdout",
     "output_type": "stream",
     "text": [
      "Requirement already satisfied: folium in c:\\users\\jshaik2452\\appdata\\local\\anaconda3\\lib\\site-packages (0.15.0)\n",
      "Requirement already satisfied: branca>=0.6.0 in c:\\users\\jshaik2452\\appdata\\local\\anaconda3\\lib\\site-packages (from folium) (0.7.0)\n",
      "Requirement already satisfied: jinja2>=2.9 in c:\\users\\jshaik2452\\appdata\\local\\anaconda3\\lib\\site-packages (from folium) (3.1.2)\n",
      "Requirement already satisfied: numpy in c:\\users\\jshaik2452\\appdata\\local\\anaconda3\\lib\\site-packages (from folium) (1.24.3)\n",
      "Requirement already satisfied: requests in c:\\users\\jshaik2452\\appdata\\local\\anaconda3\\lib\\site-packages (from folium) (2.31.0)\n",
      "Requirement already satisfied: MarkupSafe>=2.0 in c:\\users\\jshaik2452\\appdata\\local\\anaconda3\\lib\\site-packages (from jinja2>=2.9->folium) (2.1.1)\n",
      "Requirement already satisfied: charset-normalizer<4,>=2 in c:\\users\\jshaik2452\\appdata\\local\\anaconda3\\lib\\site-packages (from requests->folium) (2.0.4)\n",
      "Requirement already satisfied: idna<4,>=2.5 in c:\\users\\jshaik2452\\appdata\\local\\anaconda3\\lib\\site-packages (from requests->folium) (3.4)\n",
      "Requirement already satisfied: urllib3<3,>=1.21.1 in c:\\users\\jshaik2452\\appdata\\local\\anaconda3\\lib\\site-packages (from requests->folium) (1.26.16)\n",
      "Requirement already satisfied: certifi>=2017.4.17 in c:\\users\\jshaik2452\\appdata\\local\\anaconda3\\lib\\site-packages (from requests->folium) (2023.7.22)\n"
     ]
    }
   ],
   "source": [
    "!pip install folium"
   ]
  },
  {
   "cell_type": "code",
   "execution_count": null,
   "id": "97886789",
   "metadata": {},
   "outputs": [],
   "source": []
  },
  {
   "cell_type": "code",
   "execution_count": 123,
   "id": "ac0353f9",
   "metadata": {},
   "outputs": [
    {
     "name": "stdout",
     "output_type": "stream",
     "text": [
      "[[41.6529143, -83.5378173], [35.4729886, -97.5170536], [28.5421109, -81.3790304], [42.8867166, -78.8783922], [37.6922361, -97.3375448], [39.7683331, -86.1583502], [36.1563122, -95.9927516], [37.5385087, -77.43428], [39.100105, -94.5781416], [40.4416941, -79.9900861], [36.0726355, -79.7919754], [27.7635302, -97.4033191], [41.4996574, -81.6936772], [36.1622767, -86.7742984], [35.7803977, -78.6390989], [39.9622601, -83.0007065], [47.6571934, -117.42351], [27.9477595, -82.458444], [38.6280278, -90.1910154], [39.2908816, -76.610759], [29.7589382, -95.3676974], [38.5810606, -121.493895], [39.7392364, -104.984862], [43.0349931, -87.922497], [39.1014537, -84.5124602]]\n"
     ]
    }
   ],
   "source": [
    "lst1 = []\n",
    "i = 0\n",
    "df1 = df.iloc[:,:2]\n",
    "lst1 = df1.values.tolist()\n",
    "print(lst1)"
   ]
  },
  {
   "cell_type": "code",
   "execution_count": 124,
   "id": "0240b0ef",
   "metadata": {},
   "outputs": [
    {
     "name": "stdout",
     "output_type": "stream",
     "text": [
      "Requirement already satisfied: geopy in c:\\users\\jshaik2452\\appdata\\local\\anaconda3\\lib\\site-packages (2.4.0)\n",
      "Requirement already satisfied: geographiclib<3,>=1.52 in c:\\users\\jshaik2452\\appdata\\local\\anaconda3\\lib\\site-packages (from geopy) (2.0)\n"
     ]
    }
   ],
   "source": [
    "!pip install geopy"
   ]
  },
  {
   "cell_type": "code",
   "execution_count": 133,
   "id": "74f0ef10",
   "metadata": {},
   "outputs": [],
   "source": [
    "from geopy.geocoders import Nominatim\n",
    "import folium\n",
    "map = folium.Map(location=[21.39, 84.29],zoom_start=30)\n",
    "geoLoc = Nominatim(user_agent=\"GetLoc\")\n",
    "for point in lst1:\n",
    "   # p1 = ','.join(map(str, point))\n",
    "    #locname = geoLoc.reverse(p1)\n",
    "    folium.Marker(point).add_to(map)"
   ]
  },
  {
   "cell_type": "code",
   "execution_count": 135,
   "id": "26781554",
   "metadata": {},
   "outputs": [
    {
     "data": {
      "text/html": [
       "<div style=\"width:100%;\"><div style=\"position:relative;width:100%;height:0;padding-bottom:60%;\"><span style=\"color:#565656\">Make this Notebook Trusted to load map: File -> Trust Notebook</span><iframe srcdoc=\"&lt;!DOCTYPE html&gt;\n",
       "&lt;html&gt;\n",
       "&lt;head&gt;\n",
       "    \n",
       "    &lt;meta http-equiv=&quot;content-type&quot; content=&quot;text/html; charset=UTF-8&quot; /&gt;\n",
       "    \n",
       "        &lt;script&gt;\n",
       "            L_NO_TOUCH = false;\n",
       "            L_DISABLE_3D = false;\n",
       "        &lt;/script&gt;\n",
       "    \n",
       "    &lt;style&gt;html, body {width: 100%;height: 100%;margin: 0;padding: 0;}&lt;/style&gt;\n",
       "    &lt;style&gt;#map {position:absolute;top:0;bottom:0;right:0;left:0;}&lt;/style&gt;\n",
       "    &lt;script src=&quot;https://cdn.jsdelivr.net/npm/leaflet@1.9.3/dist/leaflet.js&quot;&gt;&lt;/script&gt;\n",
       "    &lt;script src=&quot;https://code.jquery.com/jquery-3.7.1.min.js&quot;&gt;&lt;/script&gt;\n",
       "    &lt;script src=&quot;https://cdn.jsdelivr.net/npm/bootstrap@5.2.2/dist/js/bootstrap.bundle.min.js&quot;&gt;&lt;/script&gt;\n",
       "    &lt;script src=&quot;https://cdnjs.cloudflare.com/ajax/libs/Leaflet.awesome-markers/2.0.2/leaflet.awesome-markers.js&quot;&gt;&lt;/script&gt;\n",
       "    &lt;link rel=&quot;stylesheet&quot; href=&quot;https://cdn.jsdelivr.net/npm/leaflet@1.9.3/dist/leaflet.css&quot;/&gt;\n",
       "    &lt;link rel=&quot;stylesheet&quot; href=&quot;https://cdn.jsdelivr.net/npm/bootstrap@5.2.2/dist/css/bootstrap.min.css&quot;/&gt;\n",
       "    &lt;link rel=&quot;stylesheet&quot; href=&quot;https://netdna.bootstrapcdn.com/bootstrap/3.0.0/css/bootstrap.min.css&quot;/&gt;\n",
       "    &lt;link rel=&quot;stylesheet&quot; href=&quot;https://cdn.jsdelivr.net/npm/@fortawesome/fontawesome-free@6.2.0/css/all.min.css&quot;/&gt;\n",
       "    &lt;link rel=&quot;stylesheet&quot; href=&quot;https://cdnjs.cloudflare.com/ajax/libs/Leaflet.awesome-markers/2.0.2/leaflet.awesome-markers.css&quot;/&gt;\n",
       "    &lt;link rel=&quot;stylesheet&quot; href=&quot;https://cdn.jsdelivr.net/gh/python-visualization/folium/folium/templates/leaflet.awesome.rotate.min.css&quot;/&gt;\n",
       "    \n",
       "            &lt;meta name=&quot;viewport&quot; content=&quot;width=device-width,\n",
       "                initial-scale=1.0, maximum-scale=1.0, user-scalable=no&quot; /&gt;\n",
       "            &lt;style&gt;\n",
       "                #map_d3e8494ed2e74f006cde8db4420123b5 {\n",
       "                    position: relative;\n",
       "                    width: 100.0%;\n",
       "                    height: 100.0%;\n",
       "                    left: 0.0%;\n",
       "                    top: 0.0%;\n",
       "                }\n",
       "                .leaflet-container { font-size: 1rem; }\n",
       "            &lt;/style&gt;\n",
       "        \n",
       "&lt;/head&gt;\n",
       "&lt;body&gt;\n",
       "    \n",
       "    \n",
       "            &lt;div class=&quot;folium-map&quot; id=&quot;map_d3e8494ed2e74f006cde8db4420123b5&quot; &gt;&lt;/div&gt;\n",
       "        \n",
       "&lt;/body&gt;\n",
       "&lt;script&gt;\n",
       "    \n",
       "    \n",
       "            var map_d3e8494ed2e74f006cde8db4420123b5 = L.map(\n",
       "                &quot;map_d3e8494ed2e74f006cde8db4420123b5&quot;,\n",
       "                {\n",
       "                    center: [21.39, 84.29],\n",
       "                    crs: L.CRS.EPSG3857,\n",
       "                    zoom: 30,\n",
       "                    zoomControl: true,\n",
       "                    preferCanvas: false,\n",
       "                }\n",
       "            );\n",
       "\n",
       "            \n",
       "\n",
       "        \n",
       "    \n",
       "            var tile_layer_057d4616d34c9bd8f5fb6292507431fa = L.tileLayer(\n",
       "                &quot;https://{s}.tile.openstreetmap.org/{z}/{x}/{y}.png&quot;,\n",
       "                {&quot;attribution&quot;: &quot;Data by \\u0026copy; \\u003ca target=\\&quot;_blank\\&quot; href=\\&quot;http://openstreetmap.org\\&quot;\\u003eOpenStreetMap\\u003c/a\\u003e, under \\u003ca target=\\&quot;_blank\\&quot; href=\\&quot;http://www.openstreetmap.org/copyright\\&quot;\\u003eODbL\\u003c/a\\u003e.&quot;, &quot;detectRetina&quot;: false, &quot;maxNativeZoom&quot;: 18, &quot;maxZoom&quot;: 18, &quot;minZoom&quot;: 0, &quot;noWrap&quot;: false, &quot;opacity&quot;: 1, &quot;subdomains&quot;: &quot;abc&quot;, &quot;tms&quot;: false}\n",
       "            );\n",
       "        \n",
       "    \n",
       "                tile_layer_057d4616d34c9bd8f5fb6292507431fa.addTo(map_d3e8494ed2e74f006cde8db4420123b5);\n",
       "    \n",
       "            var marker_d9e77b308d2a88d17f6931a8d13bb122 = L.marker(\n",
       "                [41.6529143, -83.5378173],\n",
       "                {}\n",
       "            ).addTo(map_d3e8494ed2e74f006cde8db4420123b5);\n",
       "        \n",
       "    \n",
       "            var marker_4445e4f4d2b36394b0ae76a849578d93 = L.marker(\n",
       "                [35.4729886, -97.5170536],\n",
       "                {}\n",
       "            ).addTo(map_d3e8494ed2e74f006cde8db4420123b5);\n",
       "        \n",
       "    \n",
       "            var marker_3eda6134f6f50f6de2e113b485767ab8 = L.marker(\n",
       "                [28.5421109, -81.3790304],\n",
       "                {}\n",
       "            ).addTo(map_d3e8494ed2e74f006cde8db4420123b5);\n",
       "        \n",
       "    \n",
       "            var marker_030856f9bbfa5ab4e921cde5f2ae0cfc = L.marker(\n",
       "                [42.8867166, -78.8783922],\n",
       "                {}\n",
       "            ).addTo(map_d3e8494ed2e74f006cde8db4420123b5);\n",
       "        \n",
       "    \n",
       "            var marker_999bf9a469b3f2b4c405ff21f60a460c = L.marker(\n",
       "                [37.6922361, -97.3375448],\n",
       "                {}\n",
       "            ).addTo(map_d3e8494ed2e74f006cde8db4420123b5);\n",
       "        \n",
       "    \n",
       "            var marker_f37931fb1ab074c8473ab476be4b472d = L.marker(\n",
       "                [39.7683331, -86.1583502],\n",
       "                {}\n",
       "            ).addTo(map_d3e8494ed2e74f006cde8db4420123b5);\n",
       "        \n",
       "    \n",
       "            var marker_9f25bbb4d2dc5027cedf8265b7a3b131 = L.marker(\n",
       "                [36.1563122, -95.9927516],\n",
       "                {}\n",
       "            ).addTo(map_d3e8494ed2e74f006cde8db4420123b5);\n",
       "        \n",
       "    \n",
       "            var marker_8974cd824ca20b599cd82623af785534 = L.marker(\n",
       "                [37.5385087, -77.43428],\n",
       "                {}\n",
       "            ).addTo(map_d3e8494ed2e74f006cde8db4420123b5);\n",
       "        \n",
       "    \n",
       "            var marker_0399dfaf2e6270f82711bd2c99b0062c = L.marker(\n",
       "                [39.100105, -94.5781416],\n",
       "                {}\n",
       "            ).addTo(map_d3e8494ed2e74f006cde8db4420123b5);\n",
       "        \n",
       "    \n",
       "            var marker_86f446cac8daf918c9fa768df9a5a70c = L.marker(\n",
       "                [40.4416941, -79.9900861],\n",
       "                {}\n",
       "            ).addTo(map_d3e8494ed2e74f006cde8db4420123b5);\n",
       "        \n",
       "    \n",
       "            var marker_2b102808e4b3dd9c568d2fd62f9cadba = L.marker(\n",
       "                [36.0726355, -79.7919754],\n",
       "                {}\n",
       "            ).addTo(map_d3e8494ed2e74f006cde8db4420123b5);\n",
       "        \n",
       "    \n",
       "            var marker_1f5b6066645efdf937ab794978800331 = L.marker(\n",
       "                [27.7635302, -97.4033191],\n",
       "                {}\n",
       "            ).addTo(map_d3e8494ed2e74f006cde8db4420123b5);\n",
       "        \n",
       "    \n",
       "            var marker_bb0110e9bb6fb4b39feb7714e4cdca96 = L.marker(\n",
       "                [41.4996574, -81.6936772],\n",
       "                {}\n",
       "            ).addTo(map_d3e8494ed2e74f006cde8db4420123b5);\n",
       "        \n",
       "    \n",
       "            var marker_192dd326e689e33eaf93f78a79d4e352 = L.marker(\n",
       "                [36.1622767, -86.7742984],\n",
       "                {}\n",
       "            ).addTo(map_d3e8494ed2e74f006cde8db4420123b5);\n",
       "        \n",
       "    \n",
       "            var marker_842dbfab6b0be0a3a09c92d967a7ec47 = L.marker(\n",
       "                [35.7803977, -78.6390989],\n",
       "                {}\n",
       "            ).addTo(map_d3e8494ed2e74f006cde8db4420123b5);\n",
       "        \n",
       "    \n",
       "            var marker_908f1fdbf466868afac3f369f98164f3 = L.marker(\n",
       "                [39.9622601, -83.0007065],\n",
       "                {}\n",
       "            ).addTo(map_d3e8494ed2e74f006cde8db4420123b5);\n",
       "        \n",
       "    \n",
       "            var marker_a035d242e1ed9ece333d95e2b30148c1 = L.marker(\n",
       "                [47.6571934, -117.42351],\n",
       "                {}\n",
       "            ).addTo(map_d3e8494ed2e74f006cde8db4420123b5);\n",
       "        \n",
       "    \n",
       "            var marker_1a0847981108c47dd60dbd295a93f44a = L.marker(\n",
       "                [27.9477595, -82.458444],\n",
       "                {}\n",
       "            ).addTo(map_d3e8494ed2e74f006cde8db4420123b5);\n",
       "        \n",
       "    \n",
       "            var marker_841385fd9bdec7c1384a733967c90ba2 = L.marker(\n",
       "                [38.6280278, -90.1910154],\n",
       "                {}\n",
       "            ).addTo(map_d3e8494ed2e74f006cde8db4420123b5);\n",
       "        \n",
       "    \n",
       "            var marker_8749d3652d48993ca6ab5eae8d8ae710 = L.marker(\n",
       "                [39.2908816, -76.610759],\n",
       "                {}\n",
       "            ).addTo(map_d3e8494ed2e74f006cde8db4420123b5);\n",
       "        \n",
       "    \n",
       "            var marker_3c322b7c3fb874c76a202523772060a9 = L.marker(\n",
       "                [29.7589382, -95.3676974],\n",
       "                {}\n",
       "            ).addTo(map_d3e8494ed2e74f006cde8db4420123b5);\n",
       "        \n",
       "    \n",
       "            var marker_142410ebcccb51ec1ca5601e24fb9051 = L.marker(\n",
       "                [38.5810606, -121.493895],\n",
       "                {}\n",
       "            ).addTo(map_d3e8494ed2e74f006cde8db4420123b5);\n",
       "        \n",
       "    \n",
       "            var marker_f069318a90414cae2f03ea27117fc502 = L.marker(\n",
       "                [39.7392364, -104.984862],\n",
       "                {}\n",
       "            ).addTo(map_d3e8494ed2e74f006cde8db4420123b5);\n",
       "        \n",
       "    \n",
       "            var marker_d93b6882b1888d4c691e88cc60320464 = L.marker(\n",
       "                [43.0349931, -87.922497],\n",
       "                {}\n",
       "            ).addTo(map_d3e8494ed2e74f006cde8db4420123b5);\n",
       "        \n",
       "    \n",
       "            var marker_05e6203b9fbdcd1a367284a29c603100 = L.marker(\n",
       "                [39.1014537, -84.5124602],\n",
       "                {}\n",
       "            ).addTo(map_d3e8494ed2e74f006cde8db4420123b5);\n",
       "        \n",
       "&lt;/script&gt;\n",
       "&lt;/html&gt;\" style=\"position:absolute;width:100%;height:100%;left:0;top:0;border:none !important;\" allowfullscreen webkitallowfullscreen mozallowfullscreen></iframe></div></div>"
      ],
      "text/plain": [
       "<folium.folium.Map at 0x23745d95150>"
      ]
     },
     "execution_count": 135,
     "metadata": {},
     "output_type": "execute_result"
    }
   ],
   "source": [
    "map"
   ]
  },
  {
   "cell_type": "code",
   "execution_count": null,
   "id": "2425690d",
   "metadata": {},
   "outputs": [],
   "source": []
  }
 ],
 "metadata": {
  "kernelspec": {
   "display_name": "Python 3 (ipykernel)",
   "language": "python",
   "name": "python3"
  },
  "language_info": {
   "codemirror_mode": {
    "name": "ipython",
    "version": 3
   },
   "file_extension": ".py",
   "mimetype": "text/x-python",
   "name": "python",
   "nbconvert_exporter": "python",
   "pygments_lexer": "ipython3",
   "version": "3.11.4"
  }
 },
 "nbformat": 4,
 "nbformat_minor": 5
}
